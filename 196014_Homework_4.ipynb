{
  "nbformat": 4,
  "nbformat_minor": 0,
  "metadata": {
    "colab": {
      "name": "196014_Homework-4.ipynb",
      "provenance": [],
      "collapsed_sections": []
    },
    "kernelspec": {
      "name": "python3",
      "display_name": "Python 3"
    }
  },
  "cells": [
    {
      "cell_type": "markdown",
      "metadata": {
        "id": "citOUXgSM8BY"
      },
      "source": [
        "\n",
        "<font size = 5 color='Orange'>\n",
        "Learning Goals</font>\n",
        "\n",
        "<font color = 'Orange' size = 4 >In this Exercise the main purpose is to learn the structure and features of the Boosting models & Neural Networks. Because the ANN are in every domain of Data Science the need for them knowledge is obligational. Therefore, in this Exercise you need to train different structures of NN's & XGBoost model with main goal of finding the top 3 models for the given Dataset.</font>\n",
        "\n",
        "<font color = 'Orange' size = 4 > Structure of the Dataset </font>\n",
        "\n",
        "<font color = 'Orange'>\n",
        "In this Dataset you have historical informations about the Bitcoin price in the next day and thirty days before.\n",
        "<li>Target column (Y): Closе - closed price for the next day of the Bitcoin</li>\n",
        "<li>X columns: Close_i {i e [1,30]}</li>\n",
        "<li>Close_i: Closed price of the Bitcoin i days ago</li>\n",
        "\n",
        "</font>\n",
        "\n",
        "\n",
        "<font color = 'Orange' size = 4 > Train XGBoost model </font>\n",
        "\n",
        "<font color = 'Orange' size = 4 > Train different NN's </font>\n",
        "<ul>\n",
        "<font color = 'Orange'>\n",
        "Try to train different kinds of NN's structures\n",
        "<li>Choose the number of layers your model will have</li>\n",
        "<li>Choose the number of neurons in each hidden layer</li>\n",
        "<li>Choose activation function for each layer: relu, sigmoid, softmax, softsign, linear,... </li>\n",
        "<li>Choose the loss function for compiling: mean_squared_error, mean_absolute_error, root_mean_squared_error, ....</li>\n",
        "<li>Choose the optimizer function for compiling: adam, adagrad, adamax, sgd,....</li>\n",
        "<li>Choose the number of epochs and the batch size for the training part</li>\n",
        "</ul>\n",
        "\n",
        "<ul>\n",
        "\n",
        "<font color = 'Orange'>\n",
        "Save the three best models in a table with the given columns\n",
        "<li>Number of the model</li>\n",
        "<li>Number of layers</li>\n",
        "<li>Number of neurons in each layer</li>\n",
        "<li>Activation function for each layer</li>\n",
        "<li>Loss function</li>\n",
        "<li>Optimizer function for compiling</li>\n",
        "<li>Number of epochs</li>\n",
        "<li>Batch size</li>\n",
        "<li>R2 score for the prediction of the test part (this is the metric for rating the models)</li>\n",
        "\n",
        "</ul>\n",
        "</font>"
      ]
    },
    {
      "cell_type": "code",
      "source": [
        "from google.colab import drive\n",
        "drive.mount('/content/drive')"
      ],
      "metadata": {
        "colab": {
          "base_uri": "https://localhost:8080/",
          "height": 0
        },
        "id": "XFKBa0_Kf2-d",
        "outputId": "584d4014-ba2d-4191-b057-6e3ac22be00b"
      },
      "execution_count": 1,
      "outputs": [
        {
          "output_type": "stream",
          "name": "stdout",
          "text": [
            "Mounted at /content/drive\n"
          ]
        }
      ]
    },
    {
      "cell_type": "code",
      "metadata": {
        "id": "IrZMG1x8UYs1"
      },
      "source": [
        "import pandas as pd\n"
      ],
      "execution_count": 2,
      "outputs": []
    },
    {
      "cell_type": "code",
      "source": [
        "data = pd.read_csv(\"/content/drive/MyDrive/V semestar/Voved vo nauka za podatoci/datasets/datasets/BTC_dataset.csv\")"
      ],
      "metadata": {
        "id": "FxLItR8dgUdB"
      },
      "execution_count": 3,
      "outputs": []
    },
    {
      "cell_type": "code",
      "source": [
        "data"
      ],
      "metadata": {
        "id": "1DwFnuhTgXkB",
        "colab": {
          "base_uri": "https://localhost:8080/",
          "height": 661
        },
        "outputId": "c5bb718c-af88-42b2-8a26-26a4e06a2a60"
      },
      "execution_count": 4,
      "outputs": [
        {
          "output_type": "execute_result",
          "data": {
            "text/html": [
              "\n",
              "  <div id=\"df-a3f7a385-105a-4ba8-9a54-64e021b89a30\">\n",
              "    <div class=\"colab-df-container\">\n",
              "      <div>\n",
              "<style scoped>\n",
              "    .dataframe tbody tr th:only-of-type {\n",
              "        vertical-align: middle;\n",
              "    }\n",
              "\n",
              "    .dataframe tbody tr th {\n",
              "        vertical-align: top;\n",
              "    }\n",
              "\n",
              "    .dataframe thead th {\n",
              "        text-align: right;\n",
              "    }\n",
              "</style>\n",
              "<table border=\"1\" class=\"dataframe\">\n",
              "  <thead>\n",
              "    <tr style=\"text-align: right;\">\n",
              "      <th></th>\n",
              "      <th>Date</th>\n",
              "      <th>Close</th>\n",
              "      <th>Close_1</th>\n",
              "      <th>Close_2</th>\n",
              "      <th>Close_3</th>\n",
              "      <th>Close_4</th>\n",
              "      <th>Close_5</th>\n",
              "      <th>Close_6</th>\n",
              "      <th>Close_7</th>\n",
              "      <th>Close_8</th>\n",
              "      <th>Close_9</th>\n",
              "      <th>Close_10</th>\n",
              "      <th>Close_11</th>\n",
              "      <th>Close_12</th>\n",
              "      <th>Close_13</th>\n",
              "      <th>Close_14</th>\n",
              "      <th>Close_15</th>\n",
              "      <th>Close_16</th>\n",
              "      <th>Close_17</th>\n",
              "      <th>Close_18</th>\n",
              "      <th>Close_19</th>\n",
              "      <th>Close_20</th>\n",
              "      <th>Close_21</th>\n",
              "      <th>Close_22</th>\n",
              "      <th>Close_23</th>\n",
              "      <th>Close_24</th>\n",
              "      <th>Close_25</th>\n",
              "      <th>Close_26</th>\n",
              "      <th>Close_27</th>\n",
              "      <th>Close_28</th>\n",
              "      <th>Close_29</th>\n",
              "      <th>Close_30</th>\n",
              "    </tr>\n",
              "  </thead>\n",
              "  <tbody>\n",
              "    <tr>\n",
              "      <th>0</th>\n",
              "      <td>2017-01-13</td>\n",
              "      <td>823.984009</td>\n",
              "      <td>804.833984</td>\n",
              "      <td>777.757019</td>\n",
              "      <td>907.679016</td>\n",
              "      <td>902.828003</td>\n",
              "      <td>911.198975</td>\n",
              "      <td>908.585022</td>\n",
              "      <td>902.200989</td>\n",
              "      <td>1013.380005</td>\n",
              "      <td>1154.729980</td>\n",
              "      <td>1043.839966</td>\n",
              "      <td>1021.750000</td>\n",
              "      <td>998.325012</td>\n",
              "      <td>963.742981</td>\n",
              "      <td>961.237976</td>\n",
              "      <td>973.497009</td>\n",
              "      <td>975.921021</td>\n",
              "      <td>933.197998</td>\n",
              "      <td>907.609985</td>\n",
              "      <td>896.182983</td>\n",
              "      <td>898.822021</td>\n",
              "      <td>921.984009</td>\n",
              "      <td>864.539978</td>\n",
              "      <td>834.281006</td>\n",
              "      <td>800.875977</td>\n",
              "      <td>792.713989</td>\n",
              "      <td>790.530029</td>\n",
              "      <td>790.828979</td>\n",
              "      <td>784.906982</td>\n",
              "      <td>778.088013</td>\n",
              "      <td>781.481018</td>\n",
              "    </tr>\n",
              "    <tr>\n",
              "      <th>1</th>\n",
              "      <td>2017-01-14</td>\n",
              "      <td>818.411987</td>\n",
              "      <td>823.984009</td>\n",
              "      <td>804.833984</td>\n",
              "      <td>777.757019</td>\n",
              "      <td>907.679016</td>\n",
              "      <td>902.828003</td>\n",
              "      <td>911.198975</td>\n",
              "      <td>908.585022</td>\n",
              "      <td>902.200989</td>\n",
              "      <td>1013.380005</td>\n",
              "      <td>1154.729980</td>\n",
              "      <td>1043.839966</td>\n",
              "      <td>1021.750000</td>\n",
              "      <td>998.325012</td>\n",
              "      <td>963.742981</td>\n",
              "      <td>961.237976</td>\n",
              "      <td>973.497009</td>\n",
              "      <td>975.921021</td>\n",
              "      <td>933.197998</td>\n",
              "      <td>907.609985</td>\n",
              "      <td>896.182983</td>\n",
              "      <td>898.822021</td>\n",
              "      <td>921.984009</td>\n",
              "      <td>864.539978</td>\n",
              "      <td>834.281006</td>\n",
              "      <td>800.875977</td>\n",
              "      <td>792.713989</td>\n",
              "      <td>790.530029</td>\n",
              "      <td>790.828979</td>\n",
              "      <td>784.906982</td>\n",
              "      <td>778.088013</td>\n",
              "    </tr>\n",
              "    <tr>\n",
              "      <th>2</th>\n",
              "      <td>2017-01-15</td>\n",
              "      <td>821.797974</td>\n",
              "      <td>818.411987</td>\n",
              "      <td>823.984009</td>\n",
              "      <td>804.833984</td>\n",
              "      <td>777.757019</td>\n",
              "      <td>907.679016</td>\n",
              "      <td>902.828003</td>\n",
              "      <td>911.198975</td>\n",
              "      <td>908.585022</td>\n",
              "      <td>902.200989</td>\n",
              "      <td>1013.380005</td>\n",
              "      <td>1154.729980</td>\n",
              "      <td>1043.839966</td>\n",
              "      <td>1021.750000</td>\n",
              "      <td>998.325012</td>\n",
              "      <td>963.742981</td>\n",
              "      <td>961.237976</td>\n",
              "      <td>973.497009</td>\n",
              "      <td>975.921021</td>\n",
              "      <td>933.197998</td>\n",
              "      <td>907.609985</td>\n",
              "      <td>896.182983</td>\n",
              "      <td>898.822021</td>\n",
              "      <td>921.984009</td>\n",
              "      <td>864.539978</td>\n",
              "      <td>834.281006</td>\n",
              "      <td>800.875977</td>\n",
              "      <td>792.713989</td>\n",
              "      <td>790.530029</td>\n",
              "      <td>790.828979</td>\n",
              "      <td>784.906982</td>\n",
              "    </tr>\n",
              "    <tr>\n",
              "      <th>3</th>\n",
              "      <td>2017-01-16</td>\n",
              "      <td>831.533997</td>\n",
              "      <td>821.797974</td>\n",
              "      <td>818.411987</td>\n",
              "      <td>823.984009</td>\n",
              "      <td>804.833984</td>\n",
              "      <td>777.757019</td>\n",
              "      <td>907.679016</td>\n",
              "      <td>902.828003</td>\n",
              "      <td>911.198975</td>\n",
              "      <td>908.585022</td>\n",
              "      <td>902.200989</td>\n",
              "      <td>1013.380005</td>\n",
              "      <td>1154.729980</td>\n",
              "      <td>1043.839966</td>\n",
              "      <td>1021.750000</td>\n",
              "      <td>998.325012</td>\n",
              "      <td>963.742981</td>\n",
              "      <td>961.237976</td>\n",
              "      <td>973.497009</td>\n",
              "      <td>975.921021</td>\n",
              "      <td>933.197998</td>\n",
              "      <td>907.609985</td>\n",
              "      <td>896.182983</td>\n",
              "      <td>898.822021</td>\n",
              "      <td>921.984009</td>\n",
              "      <td>864.539978</td>\n",
              "      <td>834.281006</td>\n",
              "      <td>800.875977</td>\n",
              "      <td>792.713989</td>\n",
              "      <td>790.530029</td>\n",
              "      <td>790.828979</td>\n",
              "    </tr>\n",
              "    <tr>\n",
              "      <th>4</th>\n",
              "      <td>2017-01-17</td>\n",
              "      <td>907.937988</td>\n",
              "      <td>831.533997</td>\n",
              "      <td>821.797974</td>\n",
              "      <td>818.411987</td>\n",
              "      <td>823.984009</td>\n",
              "      <td>804.833984</td>\n",
              "      <td>777.757019</td>\n",
              "      <td>907.679016</td>\n",
              "      <td>902.828003</td>\n",
              "      <td>911.198975</td>\n",
              "      <td>908.585022</td>\n",
              "      <td>902.200989</td>\n",
              "      <td>1013.380005</td>\n",
              "      <td>1154.729980</td>\n",
              "      <td>1043.839966</td>\n",
              "      <td>1021.750000</td>\n",
              "      <td>998.325012</td>\n",
              "      <td>963.742981</td>\n",
              "      <td>961.237976</td>\n",
              "      <td>973.497009</td>\n",
              "      <td>975.921021</td>\n",
              "      <td>933.197998</td>\n",
              "      <td>907.609985</td>\n",
              "      <td>896.182983</td>\n",
              "      <td>898.822021</td>\n",
              "      <td>921.984009</td>\n",
              "      <td>864.539978</td>\n",
              "      <td>834.281006</td>\n",
              "      <td>800.875977</td>\n",
              "      <td>792.713989</td>\n",
              "      <td>790.530029</td>\n",
              "    </tr>\n",
              "    <tr>\n",
              "      <th>...</th>\n",
              "      <td>...</td>\n",
              "      <td>...</td>\n",
              "      <td>...</td>\n",
              "      <td>...</td>\n",
              "      <td>...</td>\n",
              "      <td>...</td>\n",
              "      <td>...</td>\n",
              "      <td>...</td>\n",
              "      <td>...</td>\n",
              "      <td>...</td>\n",
              "      <td>...</td>\n",
              "      <td>...</td>\n",
              "      <td>...</td>\n",
              "      <td>...</td>\n",
              "      <td>...</td>\n",
              "      <td>...</td>\n",
              "      <td>...</td>\n",
              "      <td>...</td>\n",
              "      <td>...</td>\n",
              "      <td>...</td>\n",
              "      <td>...</td>\n",
              "      <td>...</td>\n",
              "      <td>...</td>\n",
              "      <td>...</td>\n",
              "      <td>...</td>\n",
              "      <td>...</td>\n",
              "      <td>...</td>\n",
              "      <td>...</td>\n",
              "      <td>...</td>\n",
              "      <td>...</td>\n",
              "      <td>...</td>\n",
              "      <td>...</td>\n",
              "    </tr>\n",
              "    <tr>\n",
              "      <th>1427</th>\n",
              "      <td>2020-12-10</td>\n",
              "      <td>18264.992190</td>\n",
              "      <td>18553.916020</td>\n",
              "      <td>18321.144530</td>\n",
              "      <td>19191.630860</td>\n",
              "      <td>19345.121090</td>\n",
              "      <td>19154.230470</td>\n",
              "      <td>18699.765630</td>\n",
              "      <td>19445.398440</td>\n",
              "      <td>19201.091800</td>\n",
              "      <td>18802.998050</td>\n",
              "      <td>19625.835940</td>\n",
              "      <td>18177.484380</td>\n",
              "      <td>17717.414060</td>\n",
              "      <td>17108.402340</td>\n",
              "      <td>17150.623050</td>\n",
              "      <td>18732.121090</td>\n",
              "      <td>19107.464840</td>\n",
              "      <td>18364.121090</td>\n",
              "      <td>18370.001950</td>\n",
              "      <td>18642.232420</td>\n",
              "      <td>18621.314450</td>\n",
              "      <td>17817.089840</td>\n",
              "      <td>17804.005860</td>\n",
              "      <td>17645.406250</td>\n",
              "      <td>16716.111330</td>\n",
              "      <td>15955.587890</td>\n",
              "      <td>16068.138670</td>\n",
              "      <td>16317.808590</td>\n",
              "      <td>16276.343750</td>\n",
              "      <td>15701.339840</td>\n",
              "      <td>15290.902340</td>\n",
              "    </tr>\n",
              "    <tr>\n",
              "      <th>1428</th>\n",
              "      <td>2020-12-11</td>\n",
              "      <td>18058.904300</td>\n",
              "      <td>18264.992190</td>\n",
              "      <td>18553.916020</td>\n",
              "      <td>18321.144530</td>\n",
              "      <td>19191.630860</td>\n",
              "      <td>19345.121090</td>\n",
              "      <td>19154.230470</td>\n",
              "      <td>18699.765630</td>\n",
              "      <td>19445.398440</td>\n",
              "      <td>19201.091800</td>\n",
              "      <td>18802.998050</td>\n",
              "      <td>19625.835940</td>\n",
              "      <td>18177.484380</td>\n",
              "      <td>17717.414060</td>\n",
              "      <td>17108.402340</td>\n",
              "      <td>17150.623050</td>\n",
              "      <td>18732.121090</td>\n",
              "      <td>19107.464840</td>\n",
              "      <td>18364.121090</td>\n",
              "      <td>18370.001950</td>\n",
              "      <td>18642.232420</td>\n",
              "      <td>18621.314450</td>\n",
              "      <td>17817.089840</td>\n",
              "      <td>17804.005860</td>\n",
              "      <td>17645.406250</td>\n",
              "      <td>16716.111330</td>\n",
              "      <td>15955.587890</td>\n",
              "      <td>16068.138670</td>\n",
              "      <td>16317.808590</td>\n",
              "      <td>16276.343750</td>\n",
              "      <td>15701.339840</td>\n",
              "    </tr>\n",
              "    <tr>\n",
              "      <th>1429</th>\n",
              "      <td>2020-12-12</td>\n",
              "      <td>18803.656250</td>\n",
              "      <td>18058.904300</td>\n",
              "      <td>18264.992190</td>\n",
              "      <td>18553.916020</td>\n",
              "      <td>18321.144530</td>\n",
              "      <td>19191.630860</td>\n",
              "      <td>19345.121090</td>\n",
              "      <td>19154.230470</td>\n",
              "      <td>18699.765630</td>\n",
              "      <td>19445.398440</td>\n",
              "      <td>19201.091800</td>\n",
              "      <td>18802.998050</td>\n",
              "      <td>19625.835940</td>\n",
              "      <td>18177.484380</td>\n",
              "      <td>17717.414060</td>\n",
              "      <td>17108.402340</td>\n",
              "      <td>17150.623050</td>\n",
              "      <td>18732.121090</td>\n",
              "      <td>19107.464840</td>\n",
              "      <td>18364.121090</td>\n",
              "      <td>18370.001950</td>\n",
              "      <td>18642.232420</td>\n",
              "      <td>18621.314450</td>\n",
              "      <td>17817.089840</td>\n",
              "      <td>17804.005860</td>\n",
              "      <td>17645.406250</td>\n",
              "      <td>16716.111330</td>\n",
              "      <td>15955.587890</td>\n",
              "      <td>16068.138670</td>\n",
              "      <td>16317.808590</td>\n",
              "      <td>16276.343750</td>\n",
              "    </tr>\n",
              "    <tr>\n",
              "      <th>1430</th>\n",
              "      <td>2020-12-13</td>\n",
              "      <td>19142.382810</td>\n",
              "      <td>18803.656250</td>\n",
              "      <td>18058.904300</td>\n",
              "      <td>18264.992190</td>\n",
              "      <td>18553.916020</td>\n",
              "      <td>18321.144530</td>\n",
              "      <td>19191.630860</td>\n",
              "      <td>19345.121090</td>\n",
              "      <td>19154.230470</td>\n",
              "      <td>18699.765630</td>\n",
              "      <td>19445.398440</td>\n",
              "      <td>19201.091800</td>\n",
              "      <td>18802.998050</td>\n",
              "      <td>19625.835940</td>\n",
              "      <td>18177.484380</td>\n",
              "      <td>17717.414060</td>\n",
              "      <td>17108.402340</td>\n",
              "      <td>17150.623050</td>\n",
              "      <td>18732.121090</td>\n",
              "      <td>19107.464840</td>\n",
              "      <td>18364.121090</td>\n",
              "      <td>18370.001950</td>\n",
              "      <td>18642.232420</td>\n",
              "      <td>18621.314450</td>\n",
              "      <td>17817.089840</td>\n",
              "      <td>17804.005860</td>\n",
              "      <td>17645.406250</td>\n",
              "      <td>16716.111330</td>\n",
              "      <td>15955.587890</td>\n",
              "      <td>16068.138670</td>\n",
              "      <td>16317.808590</td>\n",
              "    </tr>\n",
              "    <tr>\n",
              "      <th>1431</th>\n",
              "      <td>2020-12-14</td>\n",
              "      <td>19111.828130</td>\n",
              "      <td>19142.382810</td>\n",
              "      <td>18803.656250</td>\n",
              "      <td>18058.904300</td>\n",
              "      <td>18264.992190</td>\n",
              "      <td>18553.916020</td>\n",
              "      <td>18321.144530</td>\n",
              "      <td>19191.630860</td>\n",
              "      <td>19345.121090</td>\n",
              "      <td>19154.230470</td>\n",
              "      <td>18699.765630</td>\n",
              "      <td>19445.398440</td>\n",
              "      <td>19201.091800</td>\n",
              "      <td>18802.998050</td>\n",
              "      <td>19625.835940</td>\n",
              "      <td>18177.484380</td>\n",
              "      <td>17717.414060</td>\n",
              "      <td>17108.402340</td>\n",
              "      <td>17150.623050</td>\n",
              "      <td>18732.121090</td>\n",
              "      <td>19107.464840</td>\n",
              "      <td>18364.121090</td>\n",
              "      <td>18370.001950</td>\n",
              "      <td>18642.232420</td>\n",
              "      <td>18621.314450</td>\n",
              "      <td>17817.089840</td>\n",
              "      <td>17804.005860</td>\n",
              "      <td>17645.406250</td>\n",
              "      <td>16716.111330</td>\n",
              "      <td>15955.587890</td>\n",
              "      <td>16068.138670</td>\n",
              "    </tr>\n",
              "  </tbody>\n",
              "</table>\n",
              "<p>1432 rows × 32 columns</p>\n",
              "</div>\n",
              "      <button class=\"colab-df-convert\" onclick=\"convertToInteractive('df-a3f7a385-105a-4ba8-9a54-64e021b89a30')\"\n",
              "              title=\"Convert this dataframe to an interactive table.\"\n",
              "              style=\"display:none;\">\n",
              "        \n",
              "  <svg xmlns=\"http://www.w3.org/2000/svg\" height=\"24px\"viewBox=\"0 0 24 24\"\n",
              "       width=\"24px\">\n",
              "    <path d=\"M0 0h24v24H0V0z\" fill=\"none\"/>\n",
              "    <path d=\"M18.56 5.44l.94 2.06.94-2.06 2.06-.94-2.06-.94-.94-2.06-.94 2.06-2.06.94zm-11 1L8.5 8.5l.94-2.06 2.06-.94-2.06-.94L8.5 2.5l-.94 2.06-2.06.94zm10 10l.94 2.06.94-2.06 2.06-.94-2.06-.94-.94-2.06-.94 2.06-2.06.94z\"/><path d=\"M17.41 7.96l-1.37-1.37c-.4-.4-.92-.59-1.43-.59-.52 0-1.04.2-1.43.59L10.3 9.45l-7.72 7.72c-.78.78-.78 2.05 0 2.83L4 21.41c.39.39.9.59 1.41.59.51 0 1.02-.2 1.41-.59l7.78-7.78 2.81-2.81c.8-.78.8-2.07 0-2.86zM5.41 20L4 18.59l7.72-7.72 1.47 1.35L5.41 20z\"/>\n",
              "  </svg>\n",
              "      </button>\n",
              "      \n",
              "  <style>\n",
              "    .colab-df-container {\n",
              "      display:flex;\n",
              "      flex-wrap:wrap;\n",
              "      gap: 12px;\n",
              "    }\n",
              "\n",
              "    .colab-df-convert {\n",
              "      background-color: #E8F0FE;\n",
              "      border: none;\n",
              "      border-radius: 50%;\n",
              "      cursor: pointer;\n",
              "      display: none;\n",
              "      fill: #1967D2;\n",
              "      height: 32px;\n",
              "      padding: 0 0 0 0;\n",
              "      width: 32px;\n",
              "    }\n",
              "\n",
              "    .colab-df-convert:hover {\n",
              "      background-color: #E2EBFA;\n",
              "      box-shadow: 0px 1px 2px rgba(60, 64, 67, 0.3), 0px 1px 3px 1px rgba(60, 64, 67, 0.15);\n",
              "      fill: #174EA6;\n",
              "    }\n",
              "\n",
              "    [theme=dark] .colab-df-convert {\n",
              "      background-color: #3B4455;\n",
              "      fill: #D2E3FC;\n",
              "    }\n",
              "\n",
              "    [theme=dark] .colab-df-convert:hover {\n",
              "      background-color: #434B5C;\n",
              "      box-shadow: 0px 1px 3px 1px rgba(0, 0, 0, 0.15);\n",
              "      filter: drop-shadow(0px 1px 2px rgba(0, 0, 0, 0.3));\n",
              "      fill: #FFFFFF;\n",
              "    }\n",
              "  </style>\n",
              "\n",
              "      <script>\n",
              "        const buttonEl =\n",
              "          document.querySelector('#df-a3f7a385-105a-4ba8-9a54-64e021b89a30 button.colab-df-convert');\n",
              "        buttonEl.style.display =\n",
              "          google.colab.kernel.accessAllowed ? 'block' : 'none';\n",
              "\n",
              "        async function convertToInteractive(key) {\n",
              "          const element = document.querySelector('#df-a3f7a385-105a-4ba8-9a54-64e021b89a30');\n",
              "          const dataTable =\n",
              "            await google.colab.kernel.invokeFunction('convertToInteractive',\n",
              "                                                     [key], {});\n",
              "          if (!dataTable) return;\n",
              "\n",
              "          const docLinkHtml = 'Like what you see? Visit the ' +\n",
              "            '<a target=\"_blank\" href=https://colab.research.google.com/notebooks/data_table.ipynb>data table notebook</a>'\n",
              "            + ' to learn more about interactive tables.';\n",
              "          element.innerHTML = '';\n",
              "          dataTable['output_type'] = 'display_data';\n",
              "          await google.colab.output.renderOutput(dataTable, element);\n",
              "          const docLink = document.createElement('div');\n",
              "          docLink.innerHTML = docLinkHtml;\n",
              "          element.appendChild(docLink);\n",
              "        }\n",
              "      </script>\n",
              "    </div>\n",
              "  </div>\n",
              "  "
            ],
            "text/plain": [
              "            Date         Close  ...      Close_29      Close_30\n",
              "0     2017-01-13    823.984009  ...    778.088013    781.481018\n",
              "1     2017-01-14    818.411987  ...    784.906982    778.088013\n",
              "2     2017-01-15    821.797974  ...    790.828979    784.906982\n",
              "3     2017-01-16    831.533997  ...    790.530029    790.828979\n",
              "4     2017-01-17    907.937988  ...    792.713989    790.530029\n",
              "...          ...           ...  ...           ...           ...\n",
              "1427  2020-12-10  18264.992190  ...  15701.339840  15290.902340\n",
              "1428  2020-12-11  18058.904300  ...  16276.343750  15701.339840\n",
              "1429  2020-12-12  18803.656250  ...  16317.808590  16276.343750\n",
              "1430  2020-12-13  19142.382810  ...  16068.138670  16317.808590\n",
              "1431  2020-12-14  19111.828130  ...  15955.587890  16068.138670\n",
              "\n",
              "[1432 rows x 32 columns]"
            ]
          },
          "metadata": {},
          "execution_count": 4
        }
      ]
    },
    {
      "cell_type": "markdown",
      "source": [
        "#Conclusion by the data, because of the Y column, we need regression models \n"
      ],
      "metadata": {
        "id": "g00z28873v7e"
      }
    },
    {
      "cell_type": "markdown",
      "source": [
        "Preprocessing of the data"
      ],
      "metadata": {
        "id": "7iq3cO-l3_gF"
      }
    },
    {
      "cell_type": "code",
      "source": [
        "data.isnull().sum() #No null values"
      ],
      "metadata": {
        "id": "5BPCDIfl3uir",
        "colab": {
          "base_uri": "https://localhost:8080/",
          "height": 0
        },
        "outputId": "ef6918a5-83ce-409e-e12b-3833ba2460bc"
      },
      "execution_count": 5,
      "outputs": [
        {
          "output_type": "execute_result",
          "data": {
            "text/plain": [
              "Date        0\n",
              "Close       0\n",
              "Close_1     0\n",
              "Close_2     0\n",
              "Close_3     0\n",
              "Close_4     0\n",
              "Close_5     0\n",
              "Close_6     0\n",
              "Close_7     0\n",
              "Close_8     0\n",
              "Close_9     0\n",
              "Close_10    0\n",
              "Close_11    0\n",
              "Close_12    0\n",
              "Close_13    0\n",
              "Close_14    0\n",
              "Close_15    0\n",
              "Close_16    0\n",
              "Close_17    0\n",
              "Close_18    0\n",
              "Close_19    0\n",
              "Close_20    0\n",
              "Close_21    0\n",
              "Close_22    0\n",
              "Close_23    0\n",
              "Close_24    0\n",
              "Close_25    0\n",
              "Close_26    0\n",
              "Close_27    0\n",
              "Close_28    0\n",
              "Close_29    0\n",
              "Close_30    0\n",
              "dtype: int64"
            ]
          },
          "metadata": {},
          "execution_count": 5
        }
      ]
    },
    {
      "cell_type": "code",
      "source": [
        "x = data.iloc[:,2:]\n",
        "y = data.iloc[:,1:2]"
      ],
      "metadata": {
        "id": "PsgZ5bHo5g5p"
      },
      "execution_count": 6,
      "outputs": []
    },
    {
      "cell_type": "code",
      "source": [
        "x\n",
        "y"
      ],
      "metadata": {
        "colab": {
          "base_uri": "https://localhost:8080/",
          "height": 424
        },
        "id": "tmUkc-885hBw",
        "outputId": "5846bceb-4121-401a-92a9-2ee8689c4b30"
      },
      "execution_count": 7,
      "outputs": [
        {
          "output_type": "execute_result",
          "data": {
            "text/html": [
              "\n",
              "  <div id=\"df-f318deac-9f2e-40ad-8fcc-9160a514b0cf\">\n",
              "    <div class=\"colab-df-container\">\n",
              "      <div>\n",
              "<style scoped>\n",
              "    .dataframe tbody tr th:only-of-type {\n",
              "        vertical-align: middle;\n",
              "    }\n",
              "\n",
              "    .dataframe tbody tr th {\n",
              "        vertical-align: top;\n",
              "    }\n",
              "\n",
              "    .dataframe thead th {\n",
              "        text-align: right;\n",
              "    }\n",
              "</style>\n",
              "<table border=\"1\" class=\"dataframe\">\n",
              "  <thead>\n",
              "    <tr style=\"text-align: right;\">\n",
              "      <th></th>\n",
              "      <th>Close</th>\n",
              "    </tr>\n",
              "  </thead>\n",
              "  <tbody>\n",
              "    <tr>\n",
              "      <th>0</th>\n",
              "      <td>823.984009</td>\n",
              "    </tr>\n",
              "    <tr>\n",
              "      <th>1</th>\n",
              "      <td>818.411987</td>\n",
              "    </tr>\n",
              "    <tr>\n",
              "      <th>2</th>\n",
              "      <td>821.797974</td>\n",
              "    </tr>\n",
              "    <tr>\n",
              "      <th>3</th>\n",
              "      <td>831.533997</td>\n",
              "    </tr>\n",
              "    <tr>\n",
              "      <th>4</th>\n",
              "      <td>907.937988</td>\n",
              "    </tr>\n",
              "    <tr>\n",
              "      <th>...</th>\n",
              "      <td>...</td>\n",
              "    </tr>\n",
              "    <tr>\n",
              "      <th>1427</th>\n",
              "      <td>18264.992190</td>\n",
              "    </tr>\n",
              "    <tr>\n",
              "      <th>1428</th>\n",
              "      <td>18058.904300</td>\n",
              "    </tr>\n",
              "    <tr>\n",
              "      <th>1429</th>\n",
              "      <td>18803.656250</td>\n",
              "    </tr>\n",
              "    <tr>\n",
              "      <th>1430</th>\n",
              "      <td>19142.382810</td>\n",
              "    </tr>\n",
              "    <tr>\n",
              "      <th>1431</th>\n",
              "      <td>19111.828130</td>\n",
              "    </tr>\n",
              "  </tbody>\n",
              "</table>\n",
              "<p>1432 rows × 1 columns</p>\n",
              "</div>\n",
              "      <button class=\"colab-df-convert\" onclick=\"convertToInteractive('df-f318deac-9f2e-40ad-8fcc-9160a514b0cf')\"\n",
              "              title=\"Convert this dataframe to an interactive table.\"\n",
              "              style=\"display:none;\">\n",
              "        \n",
              "  <svg xmlns=\"http://www.w3.org/2000/svg\" height=\"24px\"viewBox=\"0 0 24 24\"\n",
              "       width=\"24px\">\n",
              "    <path d=\"M0 0h24v24H0V0z\" fill=\"none\"/>\n",
              "    <path d=\"M18.56 5.44l.94 2.06.94-2.06 2.06-.94-2.06-.94-.94-2.06-.94 2.06-2.06.94zm-11 1L8.5 8.5l.94-2.06 2.06-.94-2.06-.94L8.5 2.5l-.94 2.06-2.06.94zm10 10l.94 2.06.94-2.06 2.06-.94-2.06-.94-.94-2.06-.94 2.06-2.06.94z\"/><path d=\"M17.41 7.96l-1.37-1.37c-.4-.4-.92-.59-1.43-.59-.52 0-1.04.2-1.43.59L10.3 9.45l-7.72 7.72c-.78.78-.78 2.05 0 2.83L4 21.41c.39.39.9.59 1.41.59.51 0 1.02-.2 1.41-.59l7.78-7.78 2.81-2.81c.8-.78.8-2.07 0-2.86zM5.41 20L4 18.59l7.72-7.72 1.47 1.35L5.41 20z\"/>\n",
              "  </svg>\n",
              "      </button>\n",
              "      \n",
              "  <style>\n",
              "    .colab-df-container {\n",
              "      display:flex;\n",
              "      flex-wrap:wrap;\n",
              "      gap: 12px;\n",
              "    }\n",
              "\n",
              "    .colab-df-convert {\n",
              "      background-color: #E8F0FE;\n",
              "      border: none;\n",
              "      border-radius: 50%;\n",
              "      cursor: pointer;\n",
              "      display: none;\n",
              "      fill: #1967D2;\n",
              "      height: 32px;\n",
              "      padding: 0 0 0 0;\n",
              "      width: 32px;\n",
              "    }\n",
              "\n",
              "    .colab-df-convert:hover {\n",
              "      background-color: #E2EBFA;\n",
              "      box-shadow: 0px 1px 2px rgba(60, 64, 67, 0.3), 0px 1px 3px 1px rgba(60, 64, 67, 0.15);\n",
              "      fill: #174EA6;\n",
              "    }\n",
              "\n",
              "    [theme=dark] .colab-df-convert {\n",
              "      background-color: #3B4455;\n",
              "      fill: #D2E3FC;\n",
              "    }\n",
              "\n",
              "    [theme=dark] .colab-df-convert:hover {\n",
              "      background-color: #434B5C;\n",
              "      box-shadow: 0px 1px 3px 1px rgba(0, 0, 0, 0.15);\n",
              "      filter: drop-shadow(0px 1px 2px rgba(0, 0, 0, 0.3));\n",
              "      fill: #FFFFFF;\n",
              "    }\n",
              "  </style>\n",
              "\n",
              "      <script>\n",
              "        const buttonEl =\n",
              "          document.querySelector('#df-f318deac-9f2e-40ad-8fcc-9160a514b0cf button.colab-df-convert');\n",
              "        buttonEl.style.display =\n",
              "          google.colab.kernel.accessAllowed ? 'block' : 'none';\n",
              "\n",
              "        async function convertToInteractive(key) {\n",
              "          const element = document.querySelector('#df-f318deac-9f2e-40ad-8fcc-9160a514b0cf');\n",
              "          const dataTable =\n",
              "            await google.colab.kernel.invokeFunction('convertToInteractive',\n",
              "                                                     [key], {});\n",
              "          if (!dataTable) return;\n",
              "\n",
              "          const docLinkHtml = 'Like what you see? Visit the ' +\n",
              "            '<a target=\"_blank\" href=https://colab.research.google.com/notebooks/data_table.ipynb>data table notebook</a>'\n",
              "            + ' to learn more about interactive tables.';\n",
              "          element.innerHTML = '';\n",
              "          dataTable['output_type'] = 'display_data';\n",
              "          await google.colab.output.renderOutput(dataTable, element);\n",
              "          const docLink = document.createElement('div');\n",
              "          docLink.innerHTML = docLinkHtml;\n",
              "          element.appendChild(docLink);\n",
              "        }\n",
              "      </script>\n",
              "    </div>\n",
              "  </div>\n",
              "  "
            ],
            "text/plain": [
              "             Close\n",
              "0       823.984009\n",
              "1       818.411987\n",
              "2       821.797974\n",
              "3       831.533997\n",
              "4       907.937988\n",
              "...            ...\n",
              "1427  18264.992190\n",
              "1428  18058.904300\n",
              "1429  18803.656250\n",
              "1430  19142.382810\n",
              "1431  19111.828130\n",
              "\n",
              "[1432 rows x 1 columns]"
            ]
          },
          "metadata": {},
          "execution_count": 7
        }
      ]
    },
    {
      "cell_type": "code",
      "source": [
        "from sklearn.model_selection import train_test_split\n",
        "X_train, X_test, Y_train, Y_test = train_test_split(x, y, test_size=0.25) "
      ],
      "metadata": {
        "id": "OwQpnVbp5cHq"
      },
      "execution_count": 8,
      "outputs": []
    },
    {
      "cell_type": "code",
      "source": [
        "from sklearn.preprocessing import MinMaxScaler\n",
        "scaler = MinMaxScaler()\n",
        "X_train_scaler = scaler.fit_transform(X_train, Y_train)\n",
        "X_train_scaler"
      ],
      "metadata": {
        "colab": {
          "base_uri": "https://localhost:8080/",
          "height": 0
        },
        "id": "Le9_yWZ56Rqc",
        "outputId": "5f9e3bf7-cabc-4d89-be92-85a9fe06b89a"
      },
      "execution_count": 9,
      "outputs": [
        {
          "output_type": "execute_result",
          "data": {
            "text/plain": [
              "array([[2.64645308e-01, 2.68894778e-01, 2.64776721e-01, ...,\n",
              "        2.41030979e-01, 2.36176505e-01, 2.28746899e-01],\n",
              "       [0.00000000e+00, 1.02447275e-03, 1.43659018e-03, ...,\n",
              "        6.82331909e-04, 6.98301765e-04, 3.81949744e-04],\n",
              "       [3.38842083e-01, 3.43130113e-01, 3.40888175e-01, ...,\n",
              "        3.34950824e-01, 3.53641345e-01, 3.48234231e-01],\n",
              "       ...,\n",
              "       [4.37355401e-01, 4.55814655e-01, 4.48696301e-01, ...,\n",
              "        3.80253128e-01, 3.79894683e-01, 3.30698758e-01],\n",
              "       [2.60917065e-01, 2.60710908e-01, 2.68145790e-01, ...,\n",
              "        1.68123553e-01, 1.75614613e-01, 1.49849162e-01],\n",
              "       [3.34910063e-01, 3.25021676e-01, 3.23863323e-01, ...,\n",
              "        3.17243405e-01, 3.15353549e-01, 3.18224369e-01]])"
            ]
          },
          "metadata": {},
          "execution_count": 9
        }
      ]
    },
    {
      "cell_type": "code",
      "source": [
        "X_test_scaler = scaler.transform(X_test)\n",
        "X_test_scaler"
      ],
      "metadata": {
        "colab": {
          "base_uri": "https://localhost:8080/",
          "height": 0
        },
        "id": "E7BYygeC7RjG",
        "outputId": "0cda28cf-8941-415d-b592-f486b666e9f3"
      },
      "execution_count": 10,
      "outputs": [
        {
          "output_type": "execute_result",
          "data": {
            "text/plain": [
              "array([[0.36483755, 0.38295938, 0.38203109, ..., 0.23679717, 0.25038456,\n",
              "        0.25612693],\n",
              "       [0.09483372, 0.09612409, 0.09477375, ..., 0.10832808, 0.10440385,\n",
              "        0.11140399],\n",
              "       [0.28752306, 0.30291377, 0.30514584, ..., 0.29620932, 0.29476913,\n",
              "        0.28883846],\n",
              "       ...,\n",
              "       [0.01843889, 0.01813587, 0.02100602, ..., 0.007619  , 0.00757167,\n",
              "        0.00768353],\n",
              "       [0.58724281, 0.59711294, 0.59232624, ..., 0.5670312 , 0.58966024,\n",
              "        0.56523006],\n",
              "       [0.01124546, 0.0110721 , 0.01120889, ..., 0.00698881, 0.00664777,\n",
              "        0.01258694]])"
            ]
          },
          "metadata": {},
          "execution_count": 10
        }
      ]
    },
    {
      "cell_type": "markdown",
      "source": [
        "<h1> First model: XGBRegressor\n"
      ],
      "metadata": {
        "id": "6gq5KBAx38Fq"
      }
    },
    {
      "cell_type": "code",
      "source": [
        "from xgboost import XGBRegressor\n"
      ],
      "metadata": {
        "id": "L0E1OxcW35hx"
      },
      "execution_count": 11,
      "outputs": []
    },
    {
      "cell_type": "code",
      "source": [
        "model_1 = XGBRegressor(max_depth=10, learning_rate=0.08, n_estimators=120,objective ='reg:linear',silent=False)"
      ],
      "metadata": {
        "id": "2mr-DpyW4rzQ"
      },
      "execution_count": 12,
      "outputs": []
    },
    {
      "cell_type": "code",
      "source": [
        "model_1.fit(X_train, Y_train)"
      ],
      "metadata": {
        "colab": {
          "base_uri": "https://localhost:8080/",
          "height": 0
        },
        "id": "hXQz5tUD5Uju",
        "outputId": "f7d5387b-8206-4f4e-d9f7-615ae1501ca9"
      },
      "execution_count": 13,
      "outputs": [
        {
          "output_type": "stream",
          "name": "stdout",
          "text": [
            "[16:57:08] WARNING: /workspace/src/objective/regression_obj.cu:152: reg:linear is now deprecated in favor of reg:squarederror.\n"
          ]
        },
        {
          "output_type": "execute_result",
          "data": {
            "text/plain": [
              "XGBRegressor(learning_rate=0.08, max_depth=10, n_estimators=120, silent=False)"
            ]
          },
          "metadata": {},
          "execution_count": 13
        }
      ]
    },
    {
      "cell_type": "code",
      "source": [
        "y_pred = model_1.predict(X_test)"
      ],
      "metadata": {
        "id": "Ad9wL8O37vpx"
      },
      "execution_count": 14,
      "outputs": []
    },
    {
      "cell_type": "code",
      "source": [
        "y_pred"
      ],
      "metadata": {
        "colab": {
          "base_uri": "https://localhost:8080/",
          "height": 0
        },
        "id": "IHpz9byZ79oq",
        "outputId": "29db1992-4a93-4c5c-af67-682c3498f627"
      },
      "execution_count": 15,
      "outputs": [
        {
          "output_type": "execute_result",
          "data": {
            "text/plain": [
              "array([ 7859.09   ,  2687.8452 ,  6197.5273 ,  6286.691  ,  9238.873  ,\n",
              "        4055.9534 , 10060.076  ,  7565.168  ,  6764.0317 , 10433.703  ,\n",
              "        3933.4246 , 14453.98   ,  6639.139  ,   979.2351 ,  4836.9165 ,\n",
              "        8513.143  , 10727.879  ,  2737.144  ,  8840.247  , 13605.783  ,\n",
              "        6478.42   ,  2764.2275 ,   962.9287 ,   827.62445,  8123.162  ,\n",
              "        6327.7744 , 16224.462  ,  7571.2383 ,  5504.527  ,   928.1376 ,\n",
              "        9240.629  ,  6538.0674 , 10600.203  ,  3797.7327 ,  7405.742  ,\n",
              "        7984.2686 ,  1051.2705 ,  4029.07   ,  8274.554  ,  1235.9838 ,\n",
              "       11826.23   ,  6577.3364 , 10319.049  ,  2319.4924 ,  7416.716  ,\n",
              "        7870.0913 ,  6827.8726 ,  4020.0923 ,  4663.6616 , 11688.087  ,\n",
              "        7912.703  ,  8159.8755 ,  7574.8794 ,  8164.2905 ,  6236.6025 ,\n",
              "        1240.2913 ,  9311.595  ,  3992.466  ,  8636.661  ,  5965.2437 ,\n",
              "        9141.458  , 13837.027  ,  1032.7618 ,   906.25665,  2740.1704 ,\n",
              "        6614.325  ,  7351.3804 ,  5556.9326 ,  9244.515  ,  5402.057  ,\n",
              "        9608.26   ,  9320.868  ,  2721.466  ,  6448.954  ,  3040.8206 ,\n",
              "       15025.521  ,  8473.524  ,  8681.606  ,  8079.689  , 11653.244  ,\n",
              "        3904.1213 ,  6453.1787 ,   995.8582 ,  7401.7354 ,  8990.58   ,\n",
              "       11534.3    ,  8054.722  ,  5229.1294 ,  6569.163  ,  2147.597  ,\n",
              "        1099.9738 ,  7237.224  ,  2317.4277 ,  1214.4117 ,  8333.05   ,\n",
              "       10480.393  ,  5623.5645 ,  7166.305  ,  7857.2266 , 15396.44   ,\n",
              "        6913.513  ,  2659.58   ,  6404.7124 , 11061.608  , 11709.592  ,\n",
              "        1115.7341 , 19420.5    ,  8325.884  ,  6722.879  ,  8397.388  ,\n",
              "        1916.7996 ,  6606.506  , 10440.526  , 11021.634  ,  4148.272  ,\n",
              "       10747.28   ,  5377.376  ,  2663.195  ,  6634.0815 ,  6513.063  ,\n",
              "       14596.217  ,  9796.559  ,  4210.211  ,  6594.173  ,  7955.093  ,\n",
              "        1267.0691 ,  4278.5923 ,  5524.4243 ,  6688.825  , 10082.789  ,\n",
              "        7118.2495 ,  2756.135  ,  9199.454  ,  3854.0952 ,  3932.1233 ,\n",
              "        9010.864  ,  7433.103  , 17831.545  ,  8208.726  ,  4244.784  ,\n",
              "        6444.469  ,  3396.8188 ,  8699.403  ,  9873.214  ,  8477.399  ,\n",
              "        3490.1646 ,  2188.501  , 14015.529  ,  7051.7544 , 13638.275  ,\n",
              "        8106.796  ,  7323.519  ,  8602.222  ,  3874.8809 , 12136.256  ,\n",
              "        6477.144  ,  7429.671  ,  6264.486  ,  3664.2483 ,  7474.115  ,\n",
              "       15127.977  ,  5460.5933 ,  3966.4204 , 17094.377  ,  7513.4897 ,\n",
              "       10868.443  ,  2502.005  ,  4042.4343 ,  4104.145  ,   926.7121 ,\n",
              "        7497.495  ,  9091.361  ,  3047.3452 ,  3632.843  ,  9640.162  ,\n",
              "        2733.9377 ,  1206.3785 ,  3842.096  , 10058.519  ,  7126.2485 ,\n",
              "        4639.1743 ,  3791.469  ,  8904.056  ,  6366.7266 ,  5876.087  ,\n",
              "        9557.534  ,  8983.063  ,  3657.6855 ,  6563.823  ,  8661.403  ,\n",
              "        8092.1357 ,  6471.0522 ,  9273.669  ,  8413.029  ,   921.11633,\n",
              "        3915.9136 ,  2506.2024 ,  8383.398  , 11606.408  ,  8953.0625 ,\n",
              "        6787.657  , 11918.527  , 10964.678  ,  9537.221  ,  1188.1135 ,\n",
              "       10042.847  ,  4017.874  , 10066.113  ,  6518.855  ,  9446.711  ,\n",
              "        6994.5435 ,  8272.802  ,  6402.435  ,  8593.837  ,  3770.8098 ,\n",
              "        8222.618  , 12779.389  ,  3763.1548 ,  7373.2207 , 10557.78   ,\n",
              "        8652.4    ,  9256.154  ,  9634.096  ,  3678.0713 ,  3342.8665 ,\n",
              "        3037.233  ,  9137.939  ,  7282.4976 ,  9382.2705 ,  1191.7915 ,\n",
              "       11385.24   ,  7331.2407 , 17383.955  ,  1746.9559 ,  7119.538  ,\n",
              "        9580.572  ,  6581.228  ,  8985.905  ,  7421.5757 ,  3974.876  ,\n",
              "         936.7748 ,  7407.8354 ,  9922.776  , 10455.015  ,  7657.6294 ,\n",
              "        2572.8154 ,  7305.654  ,  4185.108  ,  2590.131  ,  2684.6624 ,\n",
              "        6617.121  ,  1194.6808 ,   824.73535,  6439.564  ,  8908.842  ,\n",
              "       10106.592  ,  9795.903  ,  7681.38   ,  8751.122  ,  1190.6102 ,\n",
              "         907.1399 ,  8459.569  ,  8145.529  ,  4685.9355 ,  7200.709  ,\n",
              "       10453.985  ,  8747.149  , 13916.53   ,  8358.94   , 10290.909  ,\n",
              "        9185.225  ,  3489.3645 ,  3875.9578 ,  4046.283  ,  7413.296  ,\n",
              "        5116.281  ,  6635.138  ,  8642.08   ,  1186.6117 ,  1047.3267 ,\n",
              "        1179.2034 ,  6506.848  ,  9430.449  , 15195.465  ,  1067.5098 ,\n",
              "       11209.517  ,  9365.211  ,  1244.9957 ,  9231.252  ,  2510.666  ,\n",
              "        7564.5293 , 10604.283  , 10816.889  ,  2669.5369 ,  1271.1353 ,\n",
              "        9413.872  , 11018.99   ,  2597.1306 ,  9772.946  , 11088.188  ,\n",
              "        3646.0967 ,  1192.3838 , 11126.843  , 10597.036  ,  1194.9008 ,\n",
              "        7536.935  ,  3606.058  ,  9273.399  ,  3632.133  ,  1182.7009 ,\n",
              "        7889.2114 , 10460.689  ,  8831.317  , 15142.384  ,  3892.369  ,\n",
              "        8812.866  ,  2346.1895 ,  3553.8718 ,  6545.8833 ,  3739.997  ,\n",
              "        1336.1464 ,  3636.6729 ,  8795.113  , 16331.752  ,  3289.     ,\n",
              "        3525.9368 , 18689.797  ,  7316.424  ,  9066.436  ,  2660.4902 ,\n",
              "        6528.622  , 11546.941  ,  9067.593  ,  4682.0664 ,  6258.798  ,\n",
              "        5197.998  ,  3758.016  , 10074.908  ,  8726.788  ,  5151.097  ,\n",
              "       11425.592  , 10291.685  ,  6478.744  ,  1175.956  ,  6202.12   ,\n",
              "        7479.6836 , 11787.747  ,  6399.7236 ,  3961.7239 ,  8119.083  ,\n",
              "        2790.2021 ,  9112.799  ,  8157.303  ,  3983.7449 ,  5681.735  ,\n",
              "        1185.5553 , 11669.724  ,  1038.3572 ], dtype=float32)"
            ]
          },
          "metadata": {},
          "execution_count": 15
        }
      ]
    },
    {
      "cell_type": "markdown",
      "source": [
        "<h1>Evalution of model 1 (without scaler)"
      ],
      "metadata": {
        "id": "3DpC4-xw8GXN"
      }
    },
    {
      "cell_type": "code",
      "source": [
        "from sklearn.metrics import mean_absolute_error\n",
        "import numpy as np\n"
      ],
      "metadata": {
        "id": "GGlth37W7-Nb"
      },
      "execution_count": 16,
      "outputs": []
    },
    {
      "cell_type": "code",
      "source": [
        "print(\"Mean Absolute Error : \" + str(np.sqrt(mean_absolute_error(y_pred, Y_test)))) "
      ],
      "metadata": {
        "colab": {
          "base_uri": "https://localhost:8080/",
          "height": 0
        },
        "id": "JnlZnHw08Rbi",
        "outputId": "81e675cf-0421-41fe-8156-b716a57c5581"
      },
      "execution_count": 17,
      "outputs": [
        {
          "output_type": "stream",
          "name": "stdout",
          "text": [
            "Mean Absolute Error : 15.625189592550168\n"
          ]
        }
      ]
    },
    {
      "cell_type": "markdown",
      "source": [
        "<h1> Evalution of model 1 (with scaler)"
      ],
      "metadata": {
        "id": "r8h14zvB-XjV"
      }
    },
    {
      "cell_type": "code",
      "source": [
        "model_1.fit(X_train_scaler, Y_train)"
      ],
      "metadata": {
        "colab": {
          "base_uri": "https://localhost:8080/",
          "height": 0
        },
        "id": "wCDcKU8f-Z1_",
        "outputId": "77e2227c-5b0e-4bf4-d7ba-1f2533bab12a"
      },
      "execution_count": 18,
      "outputs": [
        {
          "output_type": "stream",
          "name": "stdout",
          "text": [
            "[16:57:11] WARNING: /workspace/src/objective/regression_obj.cu:152: reg:linear is now deprecated in favor of reg:squarederror.\n"
          ]
        },
        {
          "output_type": "execute_result",
          "data": {
            "text/plain": [
              "XGBRegressor(learning_rate=0.08, max_depth=10, n_estimators=120, silent=False)"
            ]
          },
          "metadata": {},
          "execution_count": 18
        }
      ]
    },
    {
      "cell_type": "code",
      "source": [
        "y_pred_scaler = model_1.predict(X_test_scaler)"
      ],
      "metadata": {
        "id": "hX4OhnyR_IcO"
      },
      "execution_count": 19,
      "outputs": []
    },
    {
      "cell_type": "code",
      "source": [
        "y_pred_scaler"
      ],
      "metadata": {
        "colab": {
          "base_uri": "https://localhost:8080/",
          "height": 0
        },
        "id": "Xs73C73v_Ng4",
        "outputId": "0531ed6e-b70f-4130-c9d6-883839cfe8d6"
      },
      "execution_count": 20,
      "outputs": [
        {
          "output_type": "execute_result",
          "data": {
            "text/plain": [
              "array([ 7859.09   ,  2687.8452 ,  6197.5273 ,  6286.691  ,  9238.873  ,\n",
              "        4055.9534 , 10060.076  ,  7565.168  ,  6764.0317 , 10433.703  ,\n",
              "        3933.4246 , 14453.98   ,  6639.139  ,   979.2351 ,  4836.9165 ,\n",
              "        8513.143  , 10727.879  ,  2737.144  ,  8840.247  , 13605.783  ,\n",
              "        6478.42   ,  2764.2275 ,   962.9287 ,   827.62445,  8123.162  ,\n",
              "        6327.7744 , 16224.462  ,  7571.2383 ,  5504.527  ,   928.1376 ,\n",
              "        9240.629  ,  6538.0674 , 10600.203  ,  3797.7327 ,  7405.742  ,\n",
              "        7984.2686 ,  1051.2705 ,  4029.07   ,  8274.554  ,  1235.9838 ,\n",
              "       11826.23   ,  6577.3364 , 10319.049  ,  2319.4924 ,  7416.716  ,\n",
              "        7870.0913 ,  6827.8726 ,  4020.0923 ,  4663.6616 , 11688.087  ,\n",
              "        7912.703  ,  8159.8755 ,  7574.8794 ,  8164.2905 ,  6236.6025 ,\n",
              "        1240.2913 ,  9311.595  ,  3992.466  ,  8636.661  ,  5965.2437 ,\n",
              "        9141.458  , 13837.027  ,  1032.7618 ,   906.25665,  2740.1704 ,\n",
              "        6614.325  ,  7351.3804 ,  5556.9326 ,  9244.515  ,  5402.057  ,\n",
              "        9608.26   ,  9320.868  ,  2721.466  ,  6448.954  ,  3040.8206 ,\n",
              "       15025.521  ,  8473.524  ,  8681.606  ,  8079.689  , 11653.244  ,\n",
              "        3904.1213 ,  6453.1787 ,   995.8582 ,  7401.7354 ,  8990.58   ,\n",
              "       11534.3    ,  8054.722  ,  5229.1294 ,  6569.163  ,  2147.597  ,\n",
              "        1099.9738 ,  7237.224  ,  2317.4277 ,  1214.4117 ,  8333.05   ,\n",
              "       10480.393  ,  5623.5645 ,  7166.305  ,  7857.2266 , 15396.44   ,\n",
              "        6913.513  ,  2659.58   ,  6404.7124 , 11061.608  , 11709.592  ,\n",
              "        1115.7341 , 19420.5    ,  8325.884  ,  6722.879  ,  8397.388  ,\n",
              "        1916.7996 ,  6606.506  , 10440.526  , 11021.634  ,  4148.272  ,\n",
              "       10747.28   ,  5377.376  ,  2663.195  ,  6634.0815 ,  6513.063  ,\n",
              "       14596.217  ,  9796.559  ,  4210.211  ,  6594.173  ,  7955.093  ,\n",
              "        1267.0691 ,  4278.5923 ,  5524.4243 ,  6688.825  , 10082.789  ,\n",
              "        7118.2495 ,  2756.135  ,  9199.454  ,  3854.0952 ,  3932.1233 ,\n",
              "        9010.864  ,  7433.103  , 17831.545  ,  8208.726  ,  4244.784  ,\n",
              "        6444.469  ,  3396.8188 ,  8699.403  ,  9873.214  ,  8477.399  ,\n",
              "        3490.1646 ,  2188.501  , 14015.529  ,  7051.7544 , 13638.275  ,\n",
              "        8106.796  ,  7323.519  ,  8602.222  ,  3874.8809 , 12136.256  ,\n",
              "        6477.144  ,  7429.671  ,  6264.486  ,  3664.2483 ,  7474.115  ,\n",
              "       15127.977  ,  5460.5933 ,  3966.4204 , 17094.377  ,  7513.4897 ,\n",
              "       10868.443  ,  2502.005  ,  4042.4343 ,  4104.145  ,   926.7121 ,\n",
              "        7497.495  ,  9091.361  ,  3047.3452 ,  3632.843  ,  9640.162  ,\n",
              "        2733.9377 ,  1206.3785 ,  3842.096  , 10058.519  ,  7126.2485 ,\n",
              "        4639.1743 ,  3791.469  ,  8904.056  ,  6366.7266 ,  5876.087  ,\n",
              "        9557.534  ,  8983.063  ,  3657.6855 ,  6563.823  ,  8661.403  ,\n",
              "        8092.1357 ,  6471.0522 ,  9273.669  ,  8413.029  ,   921.11633,\n",
              "        3915.9136 ,  2506.2024 ,  8383.398  , 11606.408  ,  8953.0625 ,\n",
              "        6787.657  , 11918.527  , 10964.678  ,  9537.221  ,  1188.1135 ,\n",
              "       10042.847  ,  4017.874  , 10066.113  ,  6518.855  ,  9446.711  ,\n",
              "        6994.5435 ,  8272.802  ,  6402.435  ,  8593.837  ,  3770.8098 ,\n",
              "        8222.618  , 12779.389  ,  3763.1548 ,  7373.2207 , 10557.78   ,\n",
              "        8652.4    ,  9256.154  ,  9634.096  ,  3678.0713 ,  3342.8665 ,\n",
              "        3037.233  ,  9137.939  ,  7282.4976 ,  9382.2705 ,  1191.7915 ,\n",
              "       11385.24   ,  7331.2407 , 17383.955  ,  1746.9559 ,  7119.538  ,\n",
              "        9580.572  ,  6581.228  ,  8985.905  ,  7421.5757 ,  3974.876  ,\n",
              "         936.7748 ,  7407.8354 ,  9922.776  , 10455.015  ,  7657.6294 ,\n",
              "        2572.8154 ,  7305.654  ,  4185.108  ,  2590.131  ,  2684.6624 ,\n",
              "        6617.121  ,  1194.6808 ,   824.73535,  6439.564  ,  8908.842  ,\n",
              "       10106.592  ,  9795.903  ,  7681.38   ,  8751.122  ,  1190.6102 ,\n",
              "         907.1399 ,  8459.569  ,  8145.529  ,  4685.9355 ,  7200.709  ,\n",
              "       10453.985  ,  8747.149  , 13916.53   ,  8358.94   , 10290.909  ,\n",
              "        9185.225  ,  3489.3645 ,  3875.9578 ,  4046.283  ,  7413.296  ,\n",
              "        5116.281  ,  6635.138  ,  8642.08   ,  1186.6117 ,  1047.3267 ,\n",
              "        1179.2034 ,  6506.848  ,  9430.449  , 15195.465  ,  1067.5098 ,\n",
              "       11209.517  ,  9365.211  ,  1244.9957 ,  9231.252  ,  2510.666  ,\n",
              "        7564.5293 , 10604.283  , 10816.889  ,  2669.5369 ,  1271.1353 ,\n",
              "        9413.872  , 11018.99   ,  2597.1306 ,  9772.946  , 11088.188  ,\n",
              "        3646.0967 ,  1192.3838 , 11126.843  , 10597.036  ,  1194.9008 ,\n",
              "        7536.935  ,  3606.058  ,  9273.399  ,  3632.133  ,  1182.7009 ,\n",
              "        7889.2114 , 10460.689  ,  8831.317  , 15142.384  ,  3892.369  ,\n",
              "        8812.866  ,  2346.1895 ,  3553.8718 ,  6545.8833 ,  3739.997  ,\n",
              "        1336.1464 ,  3636.6729 ,  8795.113  , 16331.752  ,  3289.     ,\n",
              "        3525.9368 , 18689.797  ,  7316.424  ,  9066.436  ,  2660.4902 ,\n",
              "        6528.622  , 11546.941  ,  9067.593  ,  4682.0664 ,  6258.798  ,\n",
              "        5197.998  ,  3758.016  , 10074.908  ,  8726.788  ,  5151.097  ,\n",
              "       11425.592  , 10291.685  ,  6478.744  ,  1175.956  ,  6202.12   ,\n",
              "        7479.6836 , 11787.747  ,  6399.7236 ,  3961.7239 ,  8119.083  ,\n",
              "        2790.2021 ,  9112.799  ,  8157.303  ,  3983.7449 ,  5681.735  ,\n",
              "        1185.5553 , 11669.724  ,  1038.3572 ], dtype=float32)"
            ]
          },
          "metadata": {},
          "execution_count": 20
        }
      ]
    },
    {
      "cell_type": "code",
      "source": [
        "print(\"Mean Absolute Error of model 1 with scaler: \" + str(np.sqrt(mean_absolute_error(y_pred_scaler, Y_test)))) "
      ],
      "metadata": {
        "colab": {
          "base_uri": "https://localhost:8080/",
          "height": 0
        },
        "id": "rTntlgu0_OvD",
        "outputId": "9a69cd25-6e37-4391-b73c-e47b6dd091d9"
      },
      "execution_count": 21,
      "outputs": [
        {
          "output_type": "stream",
          "name": "stdout",
          "text": [
            "Mean Absolute Error of model 1 with scaler: 15.625189592550168\n"
          ]
        }
      ]
    },
    {
      "cell_type": "markdown",
      "source": [
        "We can see the results are quite similar with and without scaler"
      ],
      "metadata": {
        "id": "wi9WDeT6_nyd"
      }
    },
    {
      "cell_type": "markdown",
      "source": [
        "----"
      ],
      "metadata": {
        "id": "DhCLEgsz_vOv"
      }
    },
    {
      "cell_type": "markdown",
      "source": [
        "<h1> Second model: LGBM\n"
      ],
      "metadata": {
        "id": "OM6BmbZL_vRY"
      }
    },
    {
      "cell_type": "code",
      "source": [
        "#making new dataset to avoid problems because of changes in dataset\n",
        "data_2 = pd.read_csv(\"/content/drive/MyDrive/V semestar/Voved vo nauka za podatoci/datasets/datasets/BTC_dataset.csv\")"
      ],
      "metadata": {
        "id": "vy4ZFDMb_0jU"
      },
      "execution_count": 22,
      "outputs": []
    },
    {
      "cell_type": "code",
      "source": [
        "data_2.head()"
      ],
      "metadata": {
        "colab": {
          "base_uri": "https://localhost:8080/",
          "height": 357
        },
        "id": "xhyRX2_I__fn",
        "outputId": "7f0cfcfa-b061-4b0d-bdef-7d8d1e14a5c2"
      },
      "execution_count": 23,
      "outputs": [
        {
          "output_type": "execute_result",
          "data": {
            "text/html": [
              "\n",
              "  <div id=\"df-22d00533-590c-4fa3-a2e3-f1072213e0eb\">\n",
              "    <div class=\"colab-df-container\">\n",
              "      <div>\n",
              "<style scoped>\n",
              "    .dataframe tbody tr th:only-of-type {\n",
              "        vertical-align: middle;\n",
              "    }\n",
              "\n",
              "    .dataframe tbody tr th {\n",
              "        vertical-align: top;\n",
              "    }\n",
              "\n",
              "    .dataframe thead th {\n",
              "        text-align: right;\n",
              "    }\n",
              "</style>\n",
              "<table border=\"1\" class=\"dataframe\">\n",
              "  <thead>\n",
              "    <tr style=\"text-align: right;\">\n",
              "      <th></th>\n",
              "      <th>Date</th>\n",
              "      <th>Close</th>\n",
              "      <th>Close_1</th>\n",
              "      <th>Close_2</th>\n",
              "      <th>Close_3</th>\n",
              "      <th>Close_4</th>\n",
              "      <th>Close_5</th>\n",
              "      <th>Close_6</th>\n",
              "      <th>Close_7</th>\n",
              "      <th>Close_8</th>\n",
              "      <th>Close_9</th>\n",
              "      <th>Close_10</th>\n",
              "      <th>Close_11</th>\n",
              "      <th>Close_12</th>\n",
              "      <th>Close_13</th>\n",
              "      <th>Close_14</th>\n",
              "      <th>Close_15</th>\n",
              "      <th>Close_16</th>\n",
              "      <th>Close_17</th>\n",
              "      <th>Close_18</th>\n",
              "      <th>Close_19</th>\n",
              "      <th>Close_20</th>\n",
              "      <th>Close_21</th>\n",
              "      <th>Close_22</th>\n",
              "      <th>Close_23</th>\n",
              "      <th>Close_24</th>\n",
              "      <th>Close_25</th>\n",
              "      <th>Close_26</th>\n",
              "      <th>Close_27</th>\n",
              "      <th>Close_28</th>\n",
              "      <th>Close_29</th>\n",
              "      <th>Close_30</th>\n",
              "    </tr>\n",
              "  </thead>\n",
              "  <tbody>\n",
              "    <tr>\n",
              "      <th>0</th>\n",
              "      <td>2017-01-13</td>\n",
              "      <td>823.984009</td>\n",
              "      <td>804.833984</td>\n",
              "      <td>777.757019</td>\n",
              "      <td>907.679016</td>\n",
              "      <td>902.828003</td>\n",
              "      <td>911.198975</td>\n",
              "      <td>908.585022</td>\n",
              "      <td>902.200989</td>\n",
              "      <td>1013.380005</td>\n",
              "      <td>1154.729980</td>\n",
              "      <td>1043.839966</td>\n",
              "      <td>1021.750000</td>\n",
              "      <td>998.325012</td>\n",
              "      <td>963.742981</td>\n",
              "      <td>961.237976</td>\n",
              "      <td>973.497009</td>\n",
              "      <td>975.921021</td>\n",
              "      <td>933.197998</td>\n",
              "      <td>907.609985</td>\n",
              "      <td>896.182983</td>\n",
              "      <td>898.822021</td>\n",
              "      <td>921.984009</td>\n",
              "      <td>864.539978</td>\n",
              "      <td>834.281006</td>\n",
              "      <td>800.875977</td>\n",
              "      <td>792.713989</td>\n",
              "      <td>790.530029</td>\n",
              "      <td>790.828979</td>\n",
              "      <td>784.906982</td>\n",
              "      <td>778.088013</td>\n",
              "      <td>781.481018</td>\n",
              "    </tr>\n",
              "    <tr>\n",
              "      <th>1</th>\n",
              "      <td>2017-01-14</td>\n",
              "      <td>818.411987</td>\n",
              "      <td>823.984009</td>\n",
              "      <td>804.833984</td>\n",
              "      <td>777.757019</td>\n",
              "      <td>907.679016</td>\n",
              "      <td>902.828003</td>\n",
              "      <td>911.198975</td>\n",
              "      <td>908.585022</td>\n",
              "      <td>902.200989</td>\n",
              "      <td>1013.380005</td>\n",
              "      <td>1154.729980</td>\n",
              "      <td>1043.839966</td>\n",
              "      <td>1021.750000</td>\n",
              "      <td>998.325012</td>\n",
              "      <td>963.742981</td>\n",
              "      <td>961.237976</td>\n",
              "      <td>973.497009</td>\n",
              "      <td>975.921021</td>\n",
              "      <td>933.197998</td>\n",
              "      <td>907.609985</td>\n",
              "      <td>896.182983</td>\n",
              "      <td>898.822021</td>\n",
              "      <td>921.984009</td>\n",
              "      <td>864.539978</td>\n",
              "      <td>834.281006</td>\n",
              "      <td>800.875977</td>\n",
              "      <td>792.713989</td>\n",
              "      <td>790.530029</td>\n",
              "      <td>790.828979</td>\n",
              "      <td>784.906982</td>\n",
              "      <td>778.088013</td>\n",
              "    </tr>\n",
              "    <tr>\n",
              "      <th>2</th>\n",
              "      <td>2017-01-15</td>\n",
              "      <td>821.797974</td>\n",
              "      <td>818.411987</td>\n",
              "      <td>823.984009</td>\n",
              "      <td>804.833984</td>\n",
              "      <td>777.757019</td>\n",
              "      <td>907.679016</td>\n",
              "      <td>902.828003</td>\n",
              "      <td>911.198975</td>\n",
              "      <td>908.585022</td>\n",
              "      <td>902.200989</td>\n",
              "      <td>1013.380005</td>\n",
              "      <td>1154.729980</td>\n",
              "      <td>1043.839966</td>\n",
              "      <td>1021.750000</td>\n",
              "      <td>998.325012</td>\n",
              "      <td>963.742981</td>\n",
              "      <td>961.237976</td>\n",
              "      <td>973.497009</td>\n",
              "      <td>975.921021</td>\n",
              "      <td>933.197998</td>\n",
              "      <td>907.609985</td>\n",
              "      <td>896.182983</td>\n",
              "      <td>898.822021</td>\n",
              "      <td>921.984009</td>\n",
              "      <td>864.539978</td>\n",
              "      <td>834.281006</td>\n",
              "      <td>800.875977</td>\n",
              "      <td>792.713989</td>\n",
              "      <td>790.530029</td>\n",
              "      <td>790.828979</td>\n",
              "      <td>784.906982</td>\n",
              "    </tr>\n",
              "    <tr>\n",
              "      <th>3</th>\n",
              "      <td>2017-01-16</td>\n",
              "      <td>831.533997</td>\n",
              "      <td>821.797974</td>\n",
              "      <td>818.411987</td>\n",
              "      <td>823.984009</td>\n",
              "      <td>804.833984</td>\n",
              "      <td>777.757019</td>\n",
              "      <td>907.679016</td>\n",
              "      <td>902.828003</td>\n",
              "      <td>911.198975</td>\n",
              "      <td>908.585022</td>\n",
              "      <td>902.200989</td>\n",
              "      <td>1013.380005</td>\n",
              "      <td>1154.729980</td>\n",
              "      <td>1043.839966</td>\n",
              "      <td>1021.750000</td>\n",
              "      <td>998.325012</td>\n",
              "      <td>963.742981</td>\n",
              "      <td>961.237976</td>\n",
              "      <td>973.497009</td>\n",
              "      <td>975.921021</td>\n",
              "      <td>933.197998</td>\n",
              "      <td>907.609985</td>\n",
              "      <td>896.182983</td>\n",
              "      <td>898.822021</td>\n",
              "      <td>921.984009</td>\n",
              "      <td>864.539978</td>\n",
              "      <td>834.281006</td>\n",
              "      <td>800.875977</td>\n",
              "      <td>792.713989</td>\n",
              "      <td>790.530029</td>\n",
              "      <td>790.828979</td>\n",
              "    </tr>\n",
              "    <tr>\n",
              "      <th>4</th>\n",
              "      <td>2017-01-17</td>\n",
              "      <td>907.937988</td>\n",
              "      <td>831.533997</td>\n",
              "      <td>821.797974</td>\n",
              "      <td>818.411987</td>\n",
              "      <td>823.984009</td>\n",
              "      <td>804.833984</td>\n",
              "      <td>777.757019</td>\n",
              "      <td>907.679016</td>\n",
              "      <td>902.828003</td>\n",
              "      <td>911.198975</td>\n",
              "      <td>908.585022</td>\n",
              "      <td>902.200989</td>\n",
              "      <td>1013.380005</td>\n",
              "      <td>1154.729980</td>\n",
              "      <td>1043.839966</td>\n",
              "      <td>1021.750000</td>\n",
              "      <td>998.325012</td>\n",
              "      <td>963.742981</td>\n",
              "      <td>961.237976</td>\n",
              "      <td>973.497009</td>\n",
              "      <td>975.921021</td>\n",
              "      <td>933.197998</td>\n",
              "      <td>907.609985</td>\n",
              "      <td>896.182983</td>\n",
              "      <td>898.822021</td>\n",
              "      <td>921.984009</td>\n",
              "      <td>864.539978</td>\n",
              "      <td>834.281006</td>\n",
              "      <td>800.875977</td>\n",
              "      <td>792.713989</td>\n",
              "      <td>790.530029</td>\n",
              "    </tr>\n",
              "  </tbody>\n",
              "</table>\n",
              "</div>\n",
              "      <button class=\"colab-df-convert\" onclick=\"convertToInteractive('df-22d00533-590c-4fa3-a2e3-f1072213e0eb')\"\n",
              "              title=\"Convert this dataframe to an interactive table.\"\n",
              "              style=\"display:none;\">\n",
              "        \n",
              "  <svg xmlns=\"http://www.w3.org/2000/svg\" height=\"24px\"viewBox=\"0 0 24 24\"\n",
              "       width=\"24px\">\n",
              "    <path d=\"M0 0h24v24H0V0z\" fill=\"none\"/>\n",
              "    <path d=\"M18.56 5.44l.94 2.06.94-2.06 2.06-.94-2.06-.94-.94-2.06-.94 2.06-2.06.94zm-11 1L8.5 8.5l.94-2.06 2.06-.94-2.06-.94L8.5 2.5l-.94 2.06-2.06.94zm10 10l.94 2.06.94-2.06 2.06-.94-2.06-.94-.94-2.06-.94 2.06-2.06.94z\"/><path d=\"M17.41 7.96l-1.37-1.37c-.4-.4-.92-.59-1.43-.59-.52 0-1.04.2-1.43.59L10.3 9.45l-7.72 7.72c-.78.78-.78 2.05 0 2.83L4 21.41c.39.39.9.59 1.41.59.51 0 1.02-.2 1.41-.59l7.78-7.78 2.81-2.81c.8-.78.8-2.07 0-2.86zM5.41 20L4 18.59l7.72-7.72 1.47 1.35L5.41 20z\"/>\n",
              "  </svg>\n",
              "      </button>\n",
              "      \n",
              "  <style>\n",
              "    .colab-df-container {\n",
              "      display:flex;\n",
              "      flex-wrap:wrap;\n",
              "      gap: 12px;\n",
              "    }\n",
              "\n",
              "    .colab-df-convert {\n",
              "      background-color: #E8F0FE;\n",
              "      border: none;\n",
              "      border-radius: 50%;\n",
              "      cursor: pointer;\n",
              "      display: none;\n",
              "      fill: #1967D2;\n",
              "      height: 32px;\n",
              "      padding: 0 0 0 0;\n",
              "      width: 32px;\n",
              "    }\n",
              "\n",
              "    .colab-df-convert:hover {\n",
              "      background-color: #E2EBFA;\n",
              "      box-shadow: 0px 1px 2px rgba(60, 64, 67, 0.3), 0px 1px 3px 1px rgba(60, 64, 67, 0.15);\n",
              "      fill: #174EA6;\n",
              "    }\n",
              "\n",
              "    [theme=dark] .colab-df-convert {\n",
              "      background-color: #3B4455;\n",
              "      fill: #D2E3FC;\n",
              "    }\n",
              "\n",
              "    [theme=dark] .colab-df-convert:hover {\n",
              "      background-color: #434B5C;\n",
              "      box-shadow: 0px 1px 3px 1px rgba(0, 0, 0, 0.15);\n",
              "      filter: drop-shadow(0px 1px 2px rgba(0, 0, 0, 0.3));\n",
              "      fill: #FFFFFF;\n",
              "    }\n",
              "  </style>\n",
              "\n",
              "      <script>\n",
              "        const buttonEl =\n",
              "          document.querySelector('#df-22d00533-590c-4fa3-a2e3-f1072213e0eb button.colab-df-convert');\n",
              "        buttonEl.style.display =\n",
              "          google.colab.kernel.accessAllowed ? 'block' : 'none';\n",
              "\n",
              "        async function convertToInteractive(key) {\n",
              "          const element = document.querySelector('#df-22d00533-590c-4fa3-a2e3-f1072213e0eb');\n",
              "          const dataTable =\n",
              "            await google.colab.kernel.invokeFunction('convertToInteractive',\n",
              "                                                     [key], {});\n",
              "          if (!dataTable) return;\n",
              "\n",
              "          const docLinkHtml = 'Like what you see? Visit the ' +\n",
              "            '<a target=\"_blank\" href=https://colab.research.google.com/notebooks/data_table.ipynb>data table notebook</a>'\n",
              "            + ' to learn more about interactive tables.';\n",
              "          element.innerHTML = '';\n",
              "          dataTable['output_type'] = 'display_data';\n",
              "          await google.colab.output.renderOutput(dataTable, element);\n",
              "          const docLink = document.createElement('div');\n",
              "          docLink.innerHTML = docLinkHtml;\n",
              "          element.appendChild(docLink);\n",
              "        }\n",
              "      </script>\n",
              "    </div>\n",
              "  </div>\n",
              "  "
            ],
            "text/plain": [
              "         Date       Close     Close_1  ...    Close_28    Close_29    Close_30\n",
              "0  2017-01-13  823.984009  804.833984  ...  784.906982  778.088013  781.481018\n",
              "1  2017-01-14  818.411987  823.984009  ...  790.828979  784.906982  778.088013\n",
              "2  2017-01-15  821.797974  818.411987  ...  790.530029  790.828979  784.906982\n",
              "3  2017-01-16  831.533997  821.797974  ...  792.713989  790.530029  790.828979\n",
              "4  2017-01-17  907.937988  831.533997  ...  800.875977  792.713989  790.530029\n",
              "\n",
              "[5 rows x 32 columns]"
            ]
          },
          "metadata": {},
          "execution_count": 23
        }
      ]
    },
    {
      "cell_type": "code",
      "source": [
        "x2 = data_2.iloc[:,2:]\n",
        "y2 = data_2.iloc[:,1:2]"
      ],
      "metadata": {
        "id": "oFiqEXnoAAPt"
      },
      "execution_count": 24,
      "outputs": []
    },
    {
      "cell_type": "code",
      "source": [
        "x2\n",
        "y2"
      ],
      "metadata": {
        "colab": {
          "base_uri": "https://localhost:8080/",
          "height": 424
        },
        "id": "uKad7Cn2ASUq",
        "outputId": "dfa49221-5e9b-41c0-ca3c-58084f035d2b"
      },
      "execution_count": 25,
      "outputs": [
        {
          "output_type": "execute_result",
          "data": {
            "text/html": [
              "\n",
              "  <div id=\"df-6f1d61b0-08b6-4f1a-896a-53ffd182f157\">\n",
              "    <div class=\"colab-df-container\">\n",
              "      <div>\n",
              "<style scoped>\n",
              "    .dataframe tbody tr th:only-of-type {\n",
              "        vertical-align: middle;\n",
              "    }\n",
              "\n",
              "    .dataframe tbody tr th {\n",
              "        vertical-align: top;\n",
              "    }\n",
              "\n",
              "    .dataframe thead th {\n",
              "        text-align: right;\n",
              "    }\n",
              "</style>\n",
              "<table border=\"1\" class=\"dataframe\">\n",
              "  <thead>\n",
              "    <tr style=\"text-align: right;\">\n",
              "      <th></th>\n",
              "      <th>Close</th>\n",
              "    </tr>\n",
              "  </thead>\n",
              "  <tbody>\n",
              "    <tr>\n",
              "      <th>0</th>\n",
              "      <td>823.984009</td>\n",
              "    </tr>\n",
              "    <tr>\n",
              "      <th>1</th>\n",
              "      <td>818.411987</td>\n",
              "    </tr>\n",
              "    <tr>\n",
              "      <th>2</th>\n",
              "      <td>821.797974</td>\n",
              "    </tr>\n",
              "    <tr>\n",
              "      <th>3</th>\n",
              "      <td>831.533997</td>\n",
              "    </tr>\n",
              "    <tr>\n",
              "      <th>4</th>\n",
              "      <td>907.937988</td>\n",
              "    </tr>\n",
              "    <tr>\n",
              "      <th>...</th>\n",
              "      <td>...</td>\n",
              "    </tr>\n",
              "    <tr>\n",
              "      <th>1427</th>\n",
              "      <td>18264.992190</td>\n",
              "    </tr>\n",
              "    <tr>\n",
              "      <th>1428</th>\n",
              "      <td>18058.904300</td>\n",
              "    </tr>\n",
              "    <tr>\n",
              "      <th>1429</th>\n",
              "      <td>18803.656250</td>\n",
              "    </tr>\n",
              "    <tr>\n",
              "      <th>1430</th>\n",
              "      <td>19142.382810</td>\n",
              "    </tr>\n",
              "    <tr>\n",
              "      <th>1431</th>\n",
              "      <td>19111.828130</td>\n",
              "    </tr>\n",
              "  </tbody>\n",
              "</table>\n",
              "<p>1432 rows × 1 columns</p>\n",
              "</div>\n",
              "      <button class=\"colab-df-convert\" onclick=\"convertToInteractive('df-6f1d61b0-08b6-4f1a-896a-53ffd182f157')\"\n",
              "              title=\"Convert this dataframe to an interactive table.\"\n",
              "              style=\"display:none;\">\n",
              "        \n",
              "  <svg xmlns=\"http://www.w3.org/2000/svg\" height=\"24px\"viewBox=\"0 0 24 24\"\n",
              "       width=\"24px\">\n",
              "    <path d=\"M0 0h24v24H0V0z\" fill=\"none\"/>\n",
              "    <path d=\"M18.56 5.44l.94 2.06.94-2.06 2.06-.94-2.06-.94-.94-2.06-.94 2.06-2.06.94zm-11 1L8.5 8.5l.94-2.06 2.06-.94-2.06-.94L8.5 2.5l-.94 2.06-2.06.94zm10 10l.94 2.06.94-2.06 2.06-.94-2.06-.94-.94-2.06-.94 2.06-2.06.94z\"/><path d=\"M17.41 7.96l-1.37-1.37c-.4-.4-.92-.59-1.43-.59-.52 0-1.04.2-1.43.59L10.3 9.45l-7.72 7.72c-.78.78-.78 2.05 0 2.83L4 21.41c.39.39.9.59 1.41.59.51 0 1.02-.2 1.41-.59l7.78-7.78 2.81-2.81c.8-.78.8-2.07 0-2.86zM5.41 20L4 18.59l7.72-7.72 1.47 1.35L5.41 20z\"/>\n",
              "  </svg>\n",
              "      </button>\n",
              "      \n",
              "  <style>\n",
              "    .colab-df-container {\n",
              "      display:flex;\n",
              "      flex-wrap:wrap;\n",
              "      gap: 12px;\n",
              "    }\n",
              "\n",
              "    .colab-df-convert {\n",
              "      background-color: #E8F0FE;\n",
              "      border: none;\n",
              "      border-radius: 50%;\n",
              "      cursor: pointer;\n",
              "      display: none;\n",
              "      fill: #1967D2;\n",
              "      height: 32px;\n",
              "      padding: 0 0 0 0;\n",
              "      width: 32px;\n",
              "    }\n",
              "\n",
              "    .colab-df-convert:hover {\n",
              "      background-color: #E2EBFA;\n",
              "      box-shadow: 0px 1px 2px rgba(60, 64, 67, 0.3), 0px 1px 3px 1px rgba(60, 64, 67, 0.15);\n",
              "      fill: #174EA6;\n",
              "    }\n",
              "\n",
              "    [theme=dark] .colab-df-convert {\n",
              "      background-color: #3B4455;\n",
              "      fill: #D2E3FC;\n",
              "    }\n",
              "\n",
              "    [theme=dark] .colab-df-convert:hover {\n",
              "      background-color: #434B5C;\n",
              "      box-shadow: 0px 1px 3px 1px rgba(0, 0, 0, 0.15);\n",
              "      filter: drop-shadow(0px 1px 2px rgba(0, 0, 0, 0.3));\n",
              "      fill: #FFFFFF;\n",
              "    }\n",
              "  </style>\n",
              "\n",
              "      <script>\n",
              "        const buttonEl =\n",
              "          document.querySelector('#df-6f1d61b0-08b6-4f1a-896a-53ffd182f157 button.colab-df-convert');\n",
              "        buttonEl.style.display =\n",
              "          google.colab.kernel.accessAllowed ? 'block' : 'none';\n",
              "\n",
              "        async function convertToInteractive(key) {\n",
              "          const element = document.querySelector('#df-6f1d61b0-08b6-4f1a-896a-53ffd182f157');\n",
              "          const dataTable =\n",
              "            await google.colab.kernel.invokeFunction('convertToInteractive',\n",
              "                                                     [key], {});\n",
              "          if (!dataTable) return;\n",
              "\n",
              "          const docLinkHtml = 'Like what you see? Visit the ' +\n",
              "            '<a target=\"_blank\" href=https://colab.research.google.com/notebooks/data_table.ipynb>data table notebook</a>'\n",
              "            + ' to learn more about interactive tables.';\n",
              "          element.innerHTML = '';\n",
              "          dataTable['output_type'] = 'display_data';\n",
              "          await google.colab.output.renderOutput(dataTable, element);\n",
              "          const docLink = document.createElement('div');\n",
              "          docLink.innerHTML = docLinkHtml;\n",
              "          element.appendChild(docLink);\n",
              "        }\n",
              "      </script>\n",
              "    </div>\n",
              "  </div>\n",
              "  "
            ],
            "text/plain": [
              "             Close\n",
              "0       823.984009\n",
              "1       818.411987\n",
              "2       821.797974\n",
              "3       831.533997\n",
              "4       907.937988\n",
              "...            ...\n",
              "1427  18264.992190\n",
              "1428  18058.904300\n",
              "1429  18803.656250\n",
              "1430  19142.382810\n",
              "1431  19111.828130\n",
              "\n",
              "[1432 rows x 1 columns]"
            ]
          },
          "metadata": {},
          "execution_count": 25
        }
      ]
    },
    {
      "cell_type": "code",
      "source": [
        "X_train2, X_test2, Y_train2, Y_test2 = train_test_split(x2, y2, test_size=0.25) "
      ],
      "metadata": {
        "id": "QjDuwANoATDh"
      },
      "execution_count": 26,
      "outputs": []
    },
    {
      "cell_type": "code",
      "source": [
        "from catboost import CatBoostRegressor\n",
        "#Trying with different parameters\n",
        "#cb_model = CatBoostRegressor(iterations=500,\n",
        "                            #  learning_rate=0.05,\n",
        "                            #  depth=10,\n",
        "                            #  eval_metric='RMSE',\n",
        "                            #  random_seed = 42,\n",
        "                            #  bagging_temperature = 0.2,\n",
        "                            #  od_type='Iter',\n",
        "                            #  metric_period = 50,\n",
        "                            #  od_wait=20)\n",
        "cb_model = CatBoostRegressor(iterations=100,\n",
        "                             learning_rate=0.09,\n",
        "                             depth=7,\n",
        "                             eval_metric='RMSE',\n",
        "                             random_seed = 42,\n",
        "                             bagging_temperature = 0.2,\n",
        "                             od_type='Iter',\n",
        "                             metric_period = 50,\n",
        "                             od_wait=20)\n",
        "\n",
        "cb_model.fit(X_train2, Y_train2)"
      ],
      "metadata": {
        "colab": {
          "base_uri": "https://localhost:8080/",
          "height": 0
        },
        "id": "kWYFlrVeAuGH",
        "outputId": "57177f49-cd84-40fc-900b-107df889cc8a"
      },
      "execution_count": 29,
      "outputs": [
        {
          "output_type": "stream",
          "name": "stdout",
          "text": [
            "0:\tlearn: 3563.4199078\ttotal: 71.2ms\tremaining: 7.05s\n",
            "50:\tlearn: 454.3057001\ttotal: 711ms\tremaining: 683ms\n",
            "99:\tlearn: 330.0826159\ttotal: 1.34s\tremaining: 0us\n"
          ]
        },
        {
          "output_type": "execute_result",
          "data": {
            "text/plain": [
              "<catboost.core.CatBoostRegressor at 0x7f67f4e31610>"
            ]
          },
          "metadata": {},
          "execution_count": 29
        }
      ]
    },
    {
      "cell_type": "code",
      "source": [
        "#!pip install catboost "
      ],
      "metadata": {
        "id": "G4bNR2BFBb3b",
        "colab": {
          "base_uri": "https://localhost:8080/",
          "height": 0
        },
        "outputId": "0b7ccd5e-f312-44a7-819f-e9f9ad19dc1e"
      },
      "execution_count": 28,
      "outputs": [
        {
          "output_type": "stream",
          "name": "stdout",
          "text": [
            "Collecting catboost\n",
            "  Downloading catboost-1.0.3-cp37-none-manylinux1_x86_64.whl (76.3 MB)\n",
            "\u001b[K     |████████████████████████████████| 76.3 MB 52 kB/s \n",
            "\u001b[?25hRequirement already satisfied: scipy in /usr/local/lib/python3.7/dist-packages (from catboost) (1.4.1)\n",
            "Requirement already satisfied: pandas>=0.24.0 in /usr/local/lib/python3.7/dist-packages (from catboost) (1.1.5)\n",
            "Requirement already satisfied: numpy>=1.16.0 in /usr/local/lib/python3.7/dist-packages (from catboost) (1.19.5)\n",
            "Requirement already satisfied: graphviz in /usr/local/lib/python3.7/dist-packages (from catboost) (0.10.1)\n",
            "Requirement already satisfied: matplotlib in /usr/local/lib/python3.7/dist-packages (from catboost) (3.2.2)\n",
            "Requirement already satisfied: plotly in /usr/local/lib/python3.7/dist-packages (from catboost) (4.4.1)\n",
            "Requirement already satisfied: six in /usr/local/lib/python3.7/dist-packages (from catboost) (1.15.0)\n",
            "Requirement already satisfied: pytz>=2017.2 in /usr/local/lib/python3.7/dist-packages (from pandas>=0.24.0->catboost) (2018.9)\n",
            "Requirement already satisfied: python-dateutil>=2.7.3 in /usr/local/lib/python3.7/dist-packages (from pandas>=0.24.0->catboost) (2.8.2)\n",
            "Requirement already satisfied: kiwisolver>=1.0.1 in /usr/local/lib/python3.7/dist-packages (from matplotlib->catboost) (1.3.2)\n",
            "Requirement already satisfied: cycler>=0.10 in /usr/local/lib/python3.7/dist-packages (from matplotlib->catboost) (0.11.0)\n",
            "Requirement already satisfied: pyparsing!=2.0.4,!=2.1.2,!=2.1.6,>=2.0.1 in /usr/local/lib/python3.7/dist-packages (from matplotlib->catboost) (3.0.6)\n",
            "Requirement already satisfied: retrying>=1.3.3 in /usr/local/lib/python3.7/dist-packages (from plotly->catboost) (1.3.3)\n",
            "Installing collected packages: catboost\n",
            "Successfully installed catboost-1.0.3\n"
          ]
        }
      ]
    },
    {
      "cell_type": "code",
      "source": [
        "y_pred2 = cb_model.predict(X_test2) "
      ],
      "metadata": {
        "id": "LzrkjmT2Br-X"
      },
      "execution_count": 30,
      "outputs": []
    },
    {
      "cell_type": "code",
      "source": [
        "print(\"Mean Absolute Error of model 2: \" + str(np.sqrt(mean_absolute_error(y_pred2, Y_test2)))) "
      ],
      "metadata": {
        "colab": {
          "base_uri": "https://localhost:8080/",
          "height": 0
        },
        "id": "n_WiTVOSBVVB",
        "outputId": "f8c9358e-5a60-4b18-8d3d-6506cab63b15"
      },
      "execution_count": 31,
      "outputs": [
        {
          "output_type": "stream",
          "name": "stdout",
          "text": [
            "Mean Absolute Error of model 2: 17.046427102694132\n"
          ]
        }
      ]
    },
    {
      "cell_type": "markdown",
      "source": [
        "The first cb_model (the commented one) gave better results.\n",
        "The second model (LSTM) is worse than the first model (XGBoost)"
      ],
      "metadata": {
        "id": "hK1__h1eCaWj"
      }
    },
    {
      "cell_type": "markdown",
      "source": [
        "---"
      ],
      "metadata": {
        "id": "y9nZ5ckqCpa1"
      }
    },
    {
      "cell_type": "markdown",
      "source": [
        "<h1>  Third model: Neural network only with Dense layers\n",
        "\n"
      ],
      "metadata": {
        "id": "U12qaCj9CrcK"
      }
    },
    {
      "cell_type": "code",
      "source": [
        "data_3 = pd.read_csv(\"/content/drive/MyDrive/V semestar/Voved vo nauka za podatoci/datasets/datasets/BTC_dataset.csv\")"
      ],
      "metadata": {
        "id": "WMecAU4AC1re"
      },
      "execution_count": 32,
      "outputs": []
    },
    {
      "cell_type": "code",
      "source": [
        "x3 = data_3.iloc[:,2:]\n",
        "y3 = data_3.iloc[:,1:2]\n"
      ],
      "metadata": {
        "id": "LfvQZ1AWC1tu"
      },
      "execution_count": 33,
      "outputs": []
    },
    {
      "cell_type": "code",
      "source": [
        "X_train3, X_test3, Y_train3, Y_test3 = train_test_split(x3, y3, test_size=0.25) "
      ],
      "metadata": {
        "id": "BIDtEKceC1v1"
      },
      "execution_count": 34,
      "outputs": []
    },
    {
      "cell_type": "code",
      "source": [
        "scaler = MinMaxScaler()\n",
        "X_train3_scaler = scaler.fit_transform(X_train3, Y_train3)\n",
        "X_train3_scaler"
      ],
      "metadata": {
        "id": "mcOaFz_RF06b",
        "colab": {
          "base_uri": "https://localhost:8080/",
          "height": 0
        },
        "outputId": "8b009c62-bc3d-444a-899c-7dfae6f34813"
      },
      "execution_count": 35,
      "outputs": [
        {
          "output_type": "execute_result",
          "data": {
            "text/plain": [
              "array([[0.38435446, 0.39935551, 0.38696266, ..., 0.26698702, 0.27920606,\n",
              "        0.26565906],\n",
              "       [0.64881761, 0.58832104, 0.54293838, ..., 0.40264894, 0.42921699,\n",
              "        0.42427116],\n",
              "       [0.28523434, 0.28765094, 0.28151054, ..., 0.33940337, 0.35889819,\n",
              "        0.35140215],\n",
              "       ...,\n",
              "       [0.4922989 , 0.49370384, 0.49893067, ..., 0.51227344, 0.50976084,\n",
              "        0.50119566],\n",
              "       [0.29174302, 0.28883846, 0.3072182 , ..., 0.29791504, 0.29942547,\n",
              "        0.29168786],\n",
              "       [0.28867835, 0.29119428, 0.29801196, ..., 0.30809647, 0.30925282,\n",
              "        0.31504837]])"
            ]
          },
          "metadata": {},
          "execution_count": 35
        }
      ]
    },
    {
      "cell_type": "code",
      "source": [
        "from keras import Sequential\n",
        "from keras.layers import Dense\n",
        "from keras.layers import Dropout"
      ],
      "metadata": {
        "id": "MQFRFjNsDbRS"
      },
      "execution_count": 36,
      "outputs": []
    },
    {
      "cell_type": "code",
      "source": [
        "model3 = Sequential()"
      ],
      "metadata": {
        "id": "JrTfPctWDu08"
      },
      "execution_count": 37,
      "outputs": []
    },
    {
      "cell_type": "code",
      "source": [
        "model3.add(Dense(32, input_dim=30,activation='tanh'))\n",
        "model3.add(Dense(16, activation='relu'))\n",
        "model3.add(Dense(8, activation='tanh'))\n",
        "model3.add(Dense(1, activation='linear'))"
      ],
      "metadata": {
        "id": "go2P4MsOD5IR"
      },
      "execution_count": 38,
      "outputs": []
    },
    {
      "cell_type": "code",
      "source": [
        "model3.compile(loss='mean_squared_error', optimizer='adam') "
      ],
      "metadata": {
        "id": "6IMOgfdFEYdW"
      },
      "execution_count": 39,
      "outputs": []
    },
    {
      "cell_type": "code",
      "source": [
        "history_model3 = model3.fit(X_train3_scaler, Y_train3, epochs=50, batch_size=20,  verbose=1, validation_split=0.2)\n",
        " "
      ],
      "metadata": {
        "id": "z-fFkgt1EaIz",
        "colab": {
          "base_uri": "https://localhost:8080/",
          "height": 0
        },
        "outputId": "3b5934f5-fcfa-492a-d30a-79ef78d3b4a8"
      },
      "execution_count": 40,
      "outputs": [
        {
          "output_type": "stream",
          "name": "stdout",
          "text": [
            "Epoch 1/50\n",
            "43/43 [==============================] - 2s 14ms/step - loss: 69198440.0000 - val_loss: 66294768.0000\n",
            "Epoch 2/50\n",
            "43/43 [==============================] - 0s 5ms/step - loss: 69174536.0000 - val_loss: 66276192.0000\n",
            "Epoch 3/50\n",
            "43/43 [==============================] - 0s 7ms/step - loss: 69157080.0000 - val_loss: 66261920.0000\n",
            "Epoch 4/50\n",
            "43/43 [==============================] - 0s 6ms/step - loss: 69147232.0000 - val_loss: 66254704.0000\n",
            "Epoch 5/50\n",
            "43/43 [==============================] - 0s 4ms/step - loss: 69140296.0000 - val_loss: 66248024.0000\n",
            "Epoch 6/50\n",
            "43/43 [==============================] - 0s 6ms/step - loss: 69133728.0000 - val_loss: 66241732.0000\n",
            "Epoch 7/50\n",
            "43/43 [==============================] - 0s 5ms/step - loss: 69127408.0000 - val_loss: 66235532.0000\n",
            "Epoch 8/50\n",
            "43/43 [==============================] - 0s 6ms/step - loss: 69121208.0000 - val_loss: 66229488.0000\n",
            "Epoch 9/50\n",
            "43/43 [==============================] - 0s 5ms/step - loss: 69115088.0000 - val_loss: 66223544.0000\n",
            "Epoch 10/50\n",
            "43/43 [==============================] - 0s 5ms/step - loss: 69109056.0000 - val_loss: 66217612.0000\n",
            "Epoch 11/50\n",
            "43/43 [==============================] - 0s 5ms/step - loss: 69103072.0000 - val_loss: 66211712.0000\n",
            "Epoch 12/50\n",
            "43/43 [==============================] - 0s 5ms/step - loss: 69097112.0000 - val_loss: 66205844.0000\n",
            "Epoch 13/50\n",
            "43/43 [==============================] - 0s 6ms/step - loss: 69091192.0000 - val_loss: 66200024.0000\n",
            "Epoch 14/50\n",
            "43/43 [==============================] - 0s 8ms/step - loss: 69085304.0000 - val_loss: 66194228.0000\n",
            "Epoch 15/50\n",
            "43/43 [==============================] - 0s 8ms/step - loss: 69079432.0000 - val_loss: 66188472.0000\n",
            "Epoch 16/50\n",
            "43/43 [==============================] - 0s 6ms/step - loss: 69073608.0000 - val_loss: 66182652.0000\n",
            "Epoch 17/50\n",
            "43/43 [==============================] - 0s 6ms/step - loss: 69067744.0000 - val_loss: 66176940.0000\n",
            "Epoch 18/50\n",
            "43/43 [==============================] - 0s 7ms/step - loss: 69061944.0000 - val_loss: 66171196.0000\n",
            "Epoch 19/50\n",
            "43/43 [==============================] - 0s 4ms/step - loss: 69056144.0000 - val_loss: 66165500.0000\n",
            "Epoch 20/50\n",
            "43/43 [==============================] - 0s 5ms/step - loss: 69050336.0000 - val_loss: 66159820.0000\n",
            "Epoch 21/50\n",
            "43/43 [==============================] - 0s 4ms/step - loss: 69044576.0000 - val_loss: 66154100.0000\n",
            "Epoch 22/50\n",
            "43/43 [==============================] - 0s 4ms/step - loss: 69038800.0000 - val_loss: 66148412.0000\n",
            "Epoch 23/50\n",
            "43/43 [==============================] - 0s 4ms/step - loss: 69033024.0000 - val_loss: 66142752.0000\n",
            "Epoch 24/50\n",
            "43/43 [==============================] - 0s 5ms/step - loss: 69027248.0000 - val_loss: 66137072.0000\n",
            "Epoch 25/50\n",
            "43/43 [==============================] - 0s 6ms/step - loss: 69021504.0000 - val_loss: 66131388.0000\n",
            "Epoch 26/50\n",
            "43/43 [==============================] - 0s 4ms/step - loss: 69015768.0000 - val_loss: 66125704.0000\n",
            "Epoch 27/50\n",
            "43/43 [==============================] - 0s 5ms/step - loss: 69010016.0000 - val_loss: 66120064.0000\n",
            "Epoch 28/50\n",
            "43/43 [==============================] - 0s 4ms/step - loss: 69004280.0000 - val_loss: 66114404.0000\n",
            "Epoch 29/50\n",
            "43/43 [==============================] - 0s 5ms/step - loss: 68998552.0000 - val_loss: 66108760.0000\n",
            "Epoch 30/50\n",
            "43/43 [==============================] - 0s 4ms/step - loss: 68992808.0000 - val_loss: 66103148.0000\n",
            "Epoch 31/50\n",
            "43/43 [==============================] - 0s 5ms/step - loss: 68987104.0000 - val_loss: 66097504.0000\n",
            "Epoch 32/50\n",
            "43/43 [==============================] - 0s 4ms/step - loss: 68981392.0000 - val_loss: 66091840.0000\n",
            "Epoch 33/50\n",
            "43/43 [==============================] - 0s 4ms/step - loss: 68975672.0000 - val_loss: 66086204.0000\n",
            "Epoch 34/50\n",
            "43/43 [==============================] - 0s 4ms/step - loss: 68969944.0000 - val_loss: 66080608.0000\n",
            "Epoch 35/50\n",
            "43/43 [==============================] - 0s 4ms/step - loss: 68964248.0000 - val_loss: 66075004.0000\n",
            "Epoch 36/50\n",
            "43/43 [==============================] - 0s 3ms/step - loss: 68958560.0000 - val_loss: 66069356.0000\n",
            "Epoch 37/50\n",
            "43/43 [==============================] - 0s 2ms/step - loss: 68952864.0000 - val_loss: 66063684.0000\n",
            "Epoch 38/50\n",
            "43/43 [==============================] - 0s 2ms/step - loss: 68947144.0000 - val_loss: 66058096.0000\n",
            "Epoch 39/50\n",
            "43/43 [==============================] - 0s 2ms/step - loss: 68941448.0000 - val_loss: 66052476.0000\n",
            "Epoch 40/50\n",
            "43/43 [==============================] - 0s 3ms/step - loss: 68935752.0000 - val_loss: 66046892.0000\n",
            "Epoch 41/50\n",
            "43/43 [==============================] - 0s 2ms/step - loss: 68930056.0000 - val_loss: 66041304.0000\n",
            "Epoch 42/50\n",
            "43/43 [==============================] - 0s 3ms/step - loss: 68924368.0000 - val_loss: 66035672.0000\n",
            "Epoch 43/50\n",
            "43/43 [==============================] - 0s 2ms/step - loss: 68918680.0000 - val_loss: 66030064.0000\n",
            "Epoch 44/50\n",
            "43/43 [==============================] - 0s 3ms/step - loss: 68912984.0000 - val_loss: 66024492.0000\n",
            "Epoch 45/50\n",
            "43/43 [==============================] - 0s 5ms/step - loss: 68907312.0000 - val_loss: 66018832.0000\n",
            "Epoch 46/50\n",
            "43/43 [==============================] - 0s 6ms/step - loss: 68901616.0000 - val_loss: 66013260.0000\n",
            "Epoch 47/50\n",
            "43/43 [==============================] - 0s 5ms/step - loss: 68895944.0000 - val_loss: 66007604.0000\n",
            "Epoch 48/50\n",
            "43/43 [==============================] - 0s 6ms/step - loss: 68890240.0000 - val_loss: 66002060.0000\n",
            "Epoch 49/50\n",
            "43/43 [==============================] - 0s 6ms/step - loss: 68884584.0000 - val_loss: 65996424.0000\n",
            "Epoch 50/50\n",
            "43/43 [==============================] - 0s 7ms/step - loss: 68878888.0000 - val_loss: 65990840.0000\n"
          ]
        }
      ]
    },
    {
      "cell_type": "code",
      "source": [
        "# \"Loss\"\n",
        "import matplotlib.pyplot as plt\n",
        "plt.plot(history_model3.history['loss'])\n",
        "plt.plot(history_model3.history['val_loss'])\n",
        "plt.title('model loss')\n",
        "plt.ylabel('loss')\n",
        "plt.xlabel('epoch')\n",
        "plt.legend(['train', 'validation'], loc='upper left')\n",
        "plt.show()"
      ],
      "metadata": {
        "id": "L044fWmXEjU8",
        "colab": {
          "base_uri": "https://localhost:8080/",
          "height": 295
        },
        "outputId": "f378b9b1-8dd0-4c18-f892-4f85e5c78402"
      },
      "execution_count": 41,
      "outputs": [
        {
          "output_type": "display_data",
          "data": {
            "image/png": "[encoded data removed]",
            "text/plain": [
              "<Figure size 432x288 with 1 Axes>"
            ]
          },
          "metadata": {
            "needs_background": "light"
          }
        }
      ]
    },
    {
      "cell_type": "code",
      "source": [
        "X_test3_scaler = scaler.transform(X_test3)"
      ],
      "metadata": {
        "id": "JbL4JC9KGIbK"
      },
      "execution_count": 42,
      "outputs": []
    },
    {
      "cell_type": "code",
      "source": [
        "y_pred3 = model3.predict(X_test3_scaler) "
      ],
      "metadata": {
        "id": "QE_j-1fZErJ8"
      },
      "execution_count": 43,
      "outputs": []
    },
    {
      "cell_type": "code",
      "source": [
        "print(\"Mean Absolute Error of model 3: \" + str(np.sqrt(mean_absolute_error(y_pred3, Y_test3)))) "
      ],
      "metadata": {
        "colab": {
          "base_uri": "https://localhost:8080/",
          "height": 0
        },
        "id": "fQbnhhjtE-yB",
        "outputId": "a3a87008-9848-451b-d1a9-af5754e4d202"
      },
      "execution_count": 44,
      "outputs": [
        {
          "output_type": "stream",
          "name": "stdout",
          "text": [
            "Mean Absolute Error of model 3: 85.98756940634743\n"
          ]
        }
      ]
    },
    {
      "cell_type": "markdown",
      "source": [
        "Mean Absolute Error of model 3: 86.39524131005125. <br>\n",
        "That's some big error.\n"
      ],
      "metadata": {
        "id": "8GRLAi42FVA-"
      }
    },
    {
      "cell_type": "markdown",
      "source": [
        "<h1> Model 4 NN with Drop layers"
      ],
      "metadata": {
        "id": "SbS1PNrwGSpu"
      }
    },
    {
      "cell_type": "code",
      "source": [
        "model4 = Sequential()"
      ],
      "metadata": {
        "id": "-8mkjba9FZAp"
      },
      "execution_count": 45,
      "outputs": []
    },
    {
      "cell_type": "code",
      "source": [
        "model4.add(Dense(32, input_dim=30,activation='relu'))\n",
        "model4.add(Dropout(0.2, input_shape=(32,)))\n",
        "model4.add(Dense(16, activation='relu'))\n",
        "model4.add(Dropout(0.2, input_shape=(16,)))\n",
        "model4.add(Dense(8, activation='relu'))\n",
        "model4.add(Dropout(0.2, input_shape=(8,)))\n",
        "model4.add(Dense(1, activation='linear'))"
      ],
      "metadata": {
        "id": "vy6ReNDNGb_P"
      },
      "execution_count": 46,
      "outputs": []
    },
    {
      "cell_type": "code",
      "source": [
        "model4.compile(loss='mean_squared_error', optimizer='adam') "
      ],
      "metadata": {
        "id": "5ejmCmabG3y0"
      },
      "execution_count": 47,
      "outputs": []
    },
    {
      "cell_type": "code",
      "source": [
        "history_model4 = model4.fit(X_train3_scaler, Y_train3, epochs=50, batch_size=20,  verbose=1, validation_split=0.2)\n"
      ],
      "metadata": {
        "colab": {
          "base_uri": "https://localhost:8080/",
          "height": 0
        },
        "id": "np3xqNIkG5mZ",
        "outputId": "77fcaf3b-7241-472f-cf95-89e5ab4ab42f"
      },
      "execution_count": 48,
      "outputs": [
        {
          "output_type": "stream",
          "name": "stdout",
          "text": [
            "Epoch 1/50\n",
            "43/43 [==============================] - 1s 5ms/step - loss: 69212008.0000 - val_loss: 66310460.0000\n",
            "Epoch 2/50\n",
            "43/43 [==============================] - 0s 2ms/step - loss: 69172936.0000 - val_loss: 66242788.0000\n",
            "Epoch 3/50\n",
            "43/43 [==============================] - 0s 3ms/step - loss: 69040776.0000 - val_loss: 66019012.0000\n",
            "Epoch 4/50\n",
            "43/43 [==============================] - 0s 3ms/step - loss: 68652392.0000 - val_loss: 65400452.0000\n",
            "Epoch 5/50\n",
            "43/43 [==============================] - 0s 2ms/step - loss: 67643104.0000 - val_loss: 63985460.0000\n",
            "Epoch 6/50\n",
            "43/43 [==============================] - 0s 2ms/step - loss: 65690280.0000 - val_loss: 61225220.0000\n",
            "Epoch 7/50\n",
            "43/43 [==============================] - 0s 3ms/step - loss: 62031884.0000 - val_loss: 56436196.0000\n",
            "Epoch 8/50\n",
            "43/43 [==============================] - 0s 3ms/step - loss: 56032620.0000 - val_loss: 49035984.0000\n",
            "Epoch 9/50\n",
            "43/43 [==============================] - 0s 2ms/step - loss: 48308372.0000 - val_loss: 39404688.0000\n",
            "Epoch 10/50\n",
            "43/43 [==============================] - 0s 3ms/step - loss: 37329740.0000 - val_loss: 28387638.0000\n",
            "Epoch 11/50\n",
            "43/43 [==============================] - 0s 3ms/step - loss: 26513742.0000 - val_loss: 17485050.0000\n",
            "Epoch 12/50\n",
            "43/43 [==============================] - 0s 2ms/step - loss: 18423292.0000 - val_loss: 9433446.0000\n",
            "Epoch 13/50\n",
            "43/43 [==============================] - 0s 3ms/step - loss: 13112408.0000 - val_loss: 4771225.0000\n",
            "Epoch 14/50\n",
            "43/43 [==============================] - 0s 3ms/step - loss: 10924250.0000 - val_loss: 2701100.7500\n",
            "Epoch 15/50\n",
            "43/43 [==============================] - 0s 2ms/step - loss: 10118769.0000 - val_loss: 2106816.0000\n",
            "Epoch 16/50\n",
            "43/43 [==============================] - 0s 3ms/step - loss: 10345130.0000 - val_loss: 1849339.8750\n",
            "Epoch 17/50\n",
            "43/43 [==============================] - 0s 3ms/step - loss: 10179570.0000 - val_loss: 1754853.2500\n",
            "Epoch 18/50\n",
            "43/43 [==============================] - 0s 2ms/step - loss: 8928543.0000 - val_loss: 1728227.0000\n",
            "Epoch 19/50\n",
            "43/43 [==============================] - 0s 3ms/step - loss: 10644554.0000 - val_loss: 1821713.2500\n",
            "Epoch 20/50\n",
            "43/43 [==============================] - 0s 2ms/step - loss: 10777446.0000 - val_loss: 1852366.7500\n",
            "Epoch 21/50\n",
            "43/43 [==============================] - 0s 2ms/step - loss: 8228666.0000 - val_loss: 1960084.8750\n",
            "Epoch 22/50\n",
            "43/43 [==============================] - 0s 2ms/step - loss: 8848250.0000 - val_loss: 1644526.7500\n",
            "Epoch 23/50\n",
            "43/43 [==============================] - 0s 2ms/step - loss: 9705157.0000 - val_loss: 1734755.7500\n",
            "Epoch 24/50\n",
            "43/43 [==============================] - 0s 3ms/step - loss: 9655564.0000 - val_loss: 2041069.3750\n",
            "Epoch 25/50\n",
            "43/43 [==============================] - 0s 2ms/step - loss: 10047170.0000 - val_loss: 1886275.8750\n",
            "Epoch 26/50\n",
            "43/43 [==============================] - 0s 3ms/step - loss: 9265008.0000 - val_loss: 1730647.1250\n",
            "Epoch 27/50\n",
            "43/43 [==============================] - 0s 2ms/step - loss: 8852373.0000 - val_loss: 1677576.7500\n",
            "Epoch 28/50\n",
            "43/43 [==============================] - 0s 2ms/step - loss: 10519141.0000 - val_loss: 1889335.1250\n",
            "Epoch 29/50\n",
            "43/43 [==============================] - 0s 2ms/step - loss: 8538907.0000 - val_loss: 1665684.3750\n",
            "Epoch 30/50\n",
            "43/43 [==============================] - 0s 2ms/step - loss: 9950973.0000 - val_loss: 1624051.2500\n",
            "Epoch 31/50\n",
            "43/43 [==============================] - 0s 2ms/step - loss: 9928980.0000 - val_loss: 1779627.2500\n",
            "Epoch 32/50\n",
            "43/43 [==============================] - 0s 3ms/step - loss: 9200329.0000 - val_loss: 1856685.1250\n",
            "Epoch 33/50\n",
            "43/43 [==============================] - 0s 3ms/step - loss: 9155639.0000 - val_loss: 2000814.2500\n",
            "Epoch 34/50\n",
            "43/43 [==============================] - 0s 2ms/step - loss: 8723100.0000 - val_loss: 1905637.6250\n",
            "Epoch 35/50\n",
            "43/43 [==============================] - 0s 2ms/step - loss: 9799229.0000 - val_loss: 1847697.1250\n",
            "Epoch 36/50\n",
            "43/43 [==============================] - 0s 3ms/step - loss: 8670263.0000 - val_loss: 1662290.2500\n",
            "Epoch 37/50\n",
            "43/43 [==============================] - 0s 2ms/step - loss: 8856292.0000 - val_loss: 1584852.0000\n",
            "Epoch 38/50\n",
            "43/43 [==============================] - 0s 2ms/step - loss: 9870150.0000 - val_loss: 1583316.0000\n",
            "Epoch 39/50\n",
            "43/43 [==============================] - 0s 2ms/step - loss: 8809932.0000 - val_loss: 1712175.8750\n",
            "Epoch 40/50\n",
            "43/43 [==============================] - 0s 2ms/step - loss: 10482346.0000 - val_loss: 1734522.5000\n",
            "Epoch 41/50\n",
            "43/43 [==============================] - 0s 2ms/step - loss: 8996803.0000 - val_loss: 1571114.8750\n",
            "Epoch 42/50\n",
            "43/43 [==============================] - 0s 2ms/step - loss: 9309959.0000 - val_loss: 1372554.0000\n",
            "Epoch 43/50\n",
            "43/43 [==============================] - 0s 2ms/step - loss: 9367050.0000 - val_loss: 1553037.1250\n",
            "Epoch 44/50\n",
            "43/43 [==============================] - 0s 2ms/step - loss: 9146695.0000 - val_loss: 1567788.0000\n",
            "Epoch 45/50\n",
            "43/43 [==============================] - 0s 3ms/step - loss: 9229909.0000 - val_loss: 1603983.6250\n",
            "Epoch 46/50\n",
            "43/43 [==============================] - 0s 3ms/step - loss: 8388590.0000 - val_loss: 1635130.6250\n",
            "Epoch 47/50\n",
            "43/43 [==============================] - 0s 3ms/step - loss: 8883061.0000 - val_loss: 1523920.1250\n",
            "Epoch 48/50\n",
            "43/43 [==============================] - 0s 2ms/step - loss: 9014268.0000 - val_loss: 1536510.6250\n",
            "Epoch 49/50\n",
            "43/43 [==============================] - 0s 3ms/step - loss: 8313568.5000 - val_loss: 1616809.5000\n",
            "Epoch 50/50\n",
            "43/43 [==============================] - 0s 2ms/step - loss: 8435511.0000 - val_loss: 1458844.0000\n"
          ]
        }
      ]
    },
    {
      "cell_type": "code",
      "source": [
        "# \"Loss\"\n",
        "import matplotlib.pyplot as plt\n",
        "plt.plot(history_model4.history['loss'])\n",
        "plt.plot(history_model4.history['val_loss'])\n",
        "plt.title('model loss')\n",
        "plt.ylabel('loss')\n",
        "plt.xlabel('epoch')\n",
        "plt.legend(['train', 'validation'], loc='upper left')\n",
        "plt.show()"
      ],
      "metadata": {
        "colab": {
          "base_uri": "https://localhost:8080/",
          "height": 295
        },
        "id": "WsESvKKLHBRh",
        "outputId": "7bfb08bd-6f10-4dff-aa54-ebdf1dedd99d"
      },
      "execution_count": 49,
      "outputs": [
        {
          "output_type": "display_data",
          "data": {
            "image/png": "[encoded data removed]",
            "text/plain": [
              "<Figure size 432x288 with 1 Axes>"
            ]
          },
          "metadata": {
            "needs_background": "light"
          }
        }
      ]
    },
    {
      "cell_type": "code",
      "source": [
        "y_pred4 = model4.predict(X_test3_scaler) "
      ],
      "metadata": {
        "id": "pI6hhf00HGDx"
      },
      "execution_count": 50,
      "outputs": []
    },
    {
      "cell_type": "code",
      "source": [
        "print(\"Mean Absolute Error of model 4: \" + str(np.sqrt(mean_absolute_error(y_pred4, Y_test3)))) "
      ],
      "metadata": {
        "colab": {
          "base_uri": "https://localhost:8080/",
          "height": 0
        },
        "id": "yvOP50PhHM1L",
        "outputId": "b37627a5-b66f-4cad-a1f2-7133ec20bc23"
      },
      "execution_count": 51,
      "outputs": [
        {
          "output_type": "stream",
          "name": "stdout",
          "text": [
            "Mean Absolute Error of model 4: 30.84320200093673\n"
          ]
        }
      ]
    },
    {
      "cell_type": "markdown",
      "source": [
        "<h2>Dropout Layers did not change the result, but <b>changing the activation function</b> from tanh to relu improved the model a lot !!! Still, XGB is much better than these two NN."
      ],
      "metadata": {
        "id": "ajG-dAL9Hd_z"
      }
    },
    {
      "cell_type": "markdown",
      "source": [
        "<h1> Model 5 CNN\n"
      ],
      "metadata": {
        "id": "HzNgCuAhKYNs"
      }
    },
    {
      "cell_type": "code",
      "source": [
        "import keras.backend as K\n",
        "from keras.layers import Embedding,Conv1D,MaxPooling1D,LSTM, Flatten\n",
        "from sklearn.metrics import accuracy_score,confusion_matrix,classification_report"
      ],
      "metadata": {
        "id": "_uE7t0BbKbSA"
      },
      "execution_count": 52,
      "outputs": []
    },
    {
      "cell_type": "code",
      "source": [
        "data_5 = pd.read_csv(\"/content/drive/MyDrive/V semestar/Voved vo nauka za podatoci/datasets/datasets/BTC_dataset.csv\")\n",
        "x5 = data_5.iloc[:,2:]\n",
        "y5 = data_5.iloc[:,1:2]\n",
        "X_train5, X_test5, Y_train5, Y_test5 = train_test_split(x5, y5, test_size=0.25) "
      ],
      "metadata": {
        "id": "6T-ARJ17KkIW"
      },
      "execution_count": 53,
      "outputs": []
    },
    {
      "cell_type": "code",
      "source": [
        "scaler = MinMaxScaler()\n",
        "X_train5_scaler = scaler.fit_transform(X_train5, Y_train5)\n",
        "X_train5_scaler"
      ],
      "metadata": {
        "id": "WH9oYrjbK6mE",
        "colab": {
          "base_uri": "https://localhost:8080/",
          "height": 0
        },
        "outputId": "81a804ce-79fd-49c2-966f-3c79c4712ace"
      },
      "execution_count": 54,
      "outputs": [
        {
          "output_type": "execute_result",
          "data": {
            "text/plain": [
              "array([[0.26278972, 0.25368449, 0.27337337, ..., 0.18146569, 0.18285139,\n",
              "        0.16638101],\n",
              "       [0.01418394, 0.01328407, 0.01391192, ..., 0.02550225, 0.0265621 ,\n",
              "        0.02528109],\n",
              "       [0.45405103, 0.46642107, 0.45303677, ..., 0.35432832, 0.35081476,\n",
              "        0.33161493],\n",
              "       ...,\n",
              "       [0.01461909, 0.01442939, 0.01467858, ..., 0.00613954, 0.00765266,\n",
              "        0.00784822],\n",
              "       [0.46300997, 0.46876445, 0.4615813 , ..., 0.53547605, 0.52380153,\n",
              "        0.53630286],\n",
              "       [0.47403115, 0.47506152, 0.45624048, ..., 0.325998  , 0.32608535,\n",
              "        0.34251015]])"
            ]
          },
          "metadata": {},
          "execution_count": 54
        }
      ]
    },
    {
      "cell_type": "code",
      "source": [
        "X_test5_scaler = scaler.fit(X_test5)"
      ],
      "metadata": {
        "id": "2KBAqcyxL6RR"
      },
      "execution_count": 55,
      "outputs": []
    },
    {
      "cell_type": "code",
      "source": [
        "entry_dimension = len(X_train)\n",
        "print(entry_dimension)"
      ],
      "metadata": {
        "colab": {
          "base_uri": "https://localhost:8080/",
          "height": 0
        },
        "id": "Fb-dTMusMqpK",
        "outputId": "13a99236-e262-49f1-d42f-f32e20eb608d"
      },
      "execution_count": 56,
      "outputs": [
        {
          "output_type": "stream",
          "name": "stdout",
          "text": [
            "1074\n"
          ]
        }
      ]
    },
    {
      "cell_type": "code",
      "source": [
        "print(X_train5_scaler.shape)"
      ],
      "metadata": {
        "colab": {
          "base_uri": "https://localhost:8080/"
        },
        "id": "oJICasfDRBJE",
        "outputId": "6b74312f-36c0-4fad-c670-9bda16b9e6d9"
      },
      "execution_count": 66,
      "outputs": [
        {
          "output_type": "stream",
          "name": "stdout",
          "text": [
            "(1074, 30)\n"
          ]
        }
      ]
    },
    {
      "cell_type": "code",
      "source": [
        "K.clear_session()\n",
        "model5 = Sequential()\n",
        "#model5.add(Embedding(30, 150, input_length=X_train5_scaler.shape[1])) --> Embedding ne koristime za vremenski serii, samo za tekstualni podatoci\n",
        "model5.add(Conv1D(input_shape=(30,1),filters=32, kernel_size=3, padding='same', activation='relu'))\n",
        "model5.add(MaxPooling1D(pool_size=2))\n",
        "model5.add(Conv1D(filters=32, kernel_size=3, padding='same', activation='relu'))\n",
        "model5.add(MaxPooling1D(pool_size=2))    \n",
        "model5.add(LSTM(100, dropout=0.2, recurrent_dropout=0.2))\n",
        "model5.add(Dense(1, activation='softmax'))"
      ],
      "metadata": {
        "id": "hzMmToufKfCc"
      },
      "execution_count": 74,
      "outputs": []
    },
    {
      "cell_type": "code",
      "source": [
        "model5.compile(loss='categorical_crossentropy', optimizer='adam', metrics=['accuracy'])\n",
        " "
      ],
      "metadata": {
        "id": "xgw4WC2ALe52"
      },
      "execution_count": 68,
      "outputs": []
    },
    {
      "cell_type": "code",
      "source": [
        "model_history5 = model5.fit(X_train5_scaler, Y_train5,  epochs=10, batch_size=128, verbose=2, validation_split=0.2)\n",
        " "
      ],
      "metadata": {
        "colab": {
          "base_uri": "https://localhost:8080/"
        },
        "id": "Ov7hdtjqLs36",
        "outputId": "5fd4170e-84f0-4955-e054-793ca8b2f065"
      },
      "execution_count": 69,
      "outputs": [
        {
          "output_type": "stream",
          "name": "stdout",
          "text": [
            "Epoch 1/10\n",
            "7/7 - 4s - loss: 0.0000e+00 - accuracy: 0.0000e+00 - val_loss: 0.0000e+00 - val_accuracy: 0.0000e+00 - 4s/epoch - 521ms/step\n",
            "Epoch 2/10\n",
            "7/7 - 0s - loss: 0.0000e+00 - accuracy: 0.0000e+00 - val_loss: 0.0000e+00 - val_accuracy: 0.0000e+00 - 223ms/epoch - 32ms/step\n",
            "Epoch 3/10\n",
            "7/7 - 0s - loss: 0.0000e+00 - accuracy: 0.0000e+00 - val_loss: 0.0000e+00 - val_accuracy: 0.0000e+00 - 240ms/epoch - 34ms/step\n",
            "Epoch 4/10\n",
            "7/7 - 0s - loss: 0.0000e+00 - accuracy: 0.0000e+00 - val_loss: 0.0000e+00 - val_accuracy: 0.0000e+00 - 223ms/epoch - 32ms/step\n",
            "Epoch 5/10\n",
            "7/7 - 0s - loss: 0.0000e+00 - accuracy: 0.0000e+00 - val_loss: 0.0000e+00 - val_accuracy: 0.0000e+00 - 219ms/epoch - 31ms/step\n",
            "Epoch 6/10\n",
            "7/7 - 0s - loss: 0.0000e+00 - accuracy: 0.0000e+00 - val_loss: 0.0000e+00 - val_accuracy: 0.0000e+00 - 223ms/epoch - 32ms/step\n",
            "Epoch 7/10\n",
            "7/7 - 0s - loss: 0.0000e+00 - accuracy: 0.0000e+00 - val_loss: 0.0000e+00 - val_accuracy: 0.0000e+00 - 224ms/epoch - 32ms/step\n",
            "Epoch 8/10\n",
            "7/7 - 0s - loss: 0.0000e+00 - accuracy: 0.0000e+00 - val_loss: 0.0000e+00 - val_accuracy: 0.0000e+00 - 226ms/epoch - 32ms/step\n",
            "Epoch 9/10\n",
            "7/7 - 0s - loss: 0.0000e+00 - accuracy: 0.0000e+00 - val_loss: 0.0000e+00 - val_accuracy: 0.0000e+00 - 213ms/epoch - 30ms/step\n",
            "Epoch 10/10\n",
            "7/7 - 0s - loss: 0.0000e+00 - accuracy: 0.0000e+00 - val_loss: 0.0000e+00 - val_accuracy: 0.0000e+00 - 223ms/epoch - 32ms/step\n"
          ]
        }
      ]
    },
    {
      "cell_type": "code",
      "source": [
        "model5.save('model_cnn_lstm') \n"
      ],
      "metadata": {
        "colab": {
          "base_uri": "https://localhost:8080/"
        },
        "id": "-Y_XiBGyLyFn",
        "outputId": "8dbb5049-fe4a-4956-de48-f95677b2a5fa"
      },
      "execution_count": 70,
      "outputs": [
        {
          "output_type": "stream",
          "name": "stdout",
          "text": [
            "INFO:tensorflow:Assets written to: model_cnn_lstm/assets\n"
          ]
        },
        {
          "output_type": "stream",
          "name": "stderr",
          "text": [
            "INFO:tensorflow:Assets written to: model_cnn_lstm/assets\n",
            "WARNING:absl:<keras.layers.recurrent.LSTMCell object at 0x7f6773134ed0> has the same name 'LSTMCell' as a built-in Keras object. Consider renaming <class 'keras.layers.recurrent.LSTMCell'> to avoid naming conflicts when loading with `tf.keras.models.load_model`. If renaming is not possible, pass the object in the `custom_objects` parameter of the load function.\n"
          ]
        }
      ]
    },
    {
      "cell_type": "code",
      "source": [
        "import tensorflow as tf\n",
        "model5 = tf.keras.models.load_model('model_cnn_lstm')"
      ],
      "metadata": {
        "id": "haCBDJIfMATo"
      },
      "execution_count": 71,
      "outputs": []
    },
    {
      "cell_type": "code",
      "source": [
        "y_pred5 = model5.predict(X_test5)\n"
      ],
      "metadata": {
        "id": "59n0PoPMMeF3"
      },
      "execution_count": 72,
      "outputs": []
    },
    {
      "cell_type": "code",
      "source": [
        "y_pred5"
      ],
      "metadata": {
        "id": "FzTv8-bOMhWZ",
        "colab": {
          "base_uri": "https://localhost:8080/"
        },
        "outputId": "ba5ed6b3-6c0f-42f1-a02b-5f71aca27250"
      },
      "execution_count": 73,
      "outputs": [
        {
          "output_type": "execute_result",
          "data": {
            "text/plain": [
              "array([[1.],\n",
              "       [1.],\n",
              "       [1.],\n",
              "       [1.],\n",
              "       [1.],\n",
              "       [1.],\n",
              "       [1.],\n",
              "       [1.],\n",
              "       [1.],\n",
              "       [1.],\n",
              "       [1.],\n",
              "       [1.],\n",
              "       [1.],\n",
              "       [1.],\n",
              "       [1.],\n",
              "       [1.],\n",
              "       [1.],\n",
              "       [1.],\n",
              "       [1.],\n",
              "       [1.],\n",
              "       [1.],\n",
              "       [1.],\n",
              "       [1.],\n",
              "       [1.],\n",
              "       [1.],\n",
              "       [1.],\n",
              "       [1.],\n",
              "       [1.],\n",
              "       [1.],\n",
              "       [1.],\n",
              "       [1.],\n",
              "       [1.],\n",
              "       [1.],\n",
              "       [1.],\n",
              "       [1.],\n",
              "       [1.],\n",
              "       [1.],\n",
              "       [1.],\n",
              "       [1.],\n",
              "       [1.],\n",
              "       [1.],\n",
              "       [1.],\n",
              "       [1.],\n",
              "       [1.],\n",
              "       [1.],\n",
              "       [1.],\n",
              "       [1.],\n",
              "       [1.],\n",
              "       [1.],\n",
              "       [1.],\n",
              "       [1.],\n",
              "       [1.],\n",
              "       [1.],\n",
              "       [1.],\n",
              "       [1.],\n",
              "       [1.],\n",
              "       [1.],\n",
              "       [1.],\n",
              "       [1.],\n",
              "       [1.],\n",
              "       [1.],\n",
              "       [1.],\n",
              "       [1.],\n",
              "       [1.],\n",
              "       [1.],\n",
              "       [1.],\n",
              "       [1.],\n",
              "       [1.],\n",
              "       [1.],\n",
              "       [1.],\n",
              "       [1.],\n",
              "       [1.],\n",
              "       [1.],\n",
              "       [1.],\n",
              "       [1.],\n",
              "       [1.],\n",
              "       [1.],\n",
              "       [1.],\n",
              "       [1.],\n",
              "       [1.],\n",
              "       [1.],\n",
              "       [1.],\n",
              "       [1.],\n",
              "       [1.],\n",
              "       [1.],\n",
              "       [1.],\n",
              "       [1.],\n",
              "       [1.],\n",
              "       [1.],\n",
              "       [1.],\n",
              "       [1.],\n",
              "       [1.],\n",
              "       [1.],\n",
              "       [1.],\n",
              "       [1.],\n",
              "       [1.],\n",
              "       [1.],\n",
              "       [1.],\n",
              "       [1.],\n",
              "       [1.],\n",
              "       [1.],\n",
              "       [1.],\n",
              "       [1.],\n",
              "       [1.],\n",
              "       [1.],\n",
              "       [1.],\n",
              "       [1.],\n",
              "       [1.],\n",
              "       [1.],\n",
              "       [1.],\n",
              "       [1.],\n",
              "       [1.],\n",
              "       [1.],\n",
              "       [1.],\n",
              "       [1.],\n",
              "       [1.],\n",
              "       [1.],\n",
              "       [1.],\n",
              "       [1.],\n",
              "       [1.],\n",
              "       [1.],\n",
              "       [1.],\n",
              "       [1.],\n",
              "       [1.],\n",
              "       [1.],\n",
              "       [1.],\n",
              "       [1.],\n",
              "       [1.],\n",
              "       [1.],\n",
              "       [1.],\n",
              "       [1.],\n",
              "       [1.],\n",
              "       [1.],\n",
              "       [1.],\n",
              "       [1.],\n",
              "       [1.],\n",
              "       [1.],\n",
              "       [1.],\n",
              "       [1.],\n",
              "       [1.],\n",
              "       [1.],\n",
              "       [1.],\n",
              "       [1.],\n",
              "       [1.],\n",
              "       [1.],\n",
              "       [1.],\n",
              "       [1.],\n",
              "       [1.],\n",
              "       [1.],\n",
              "       [1.],\n",
              "       [1.],\n",
              "       [1.],\n",
              "       [1.],\n",
              "       [1.],\n",
              "       [1.],\n",
              "       [1.],\n",
              "       [1.],\n",
              "       [1.],\n",
              "       [1.],\n",
              "       [1.],\n",
              "       [1.],\n",
              "       [1.],\n",
              "       [1.],\n",
              "       [1.],\n",
              "       [1.],\n",
              "       [1.],\n",
              "       [1.],\n",
              "       [1.],\n",
              "       [1.],\n",
              "       [1.],\n",
              "       [1.],\n",
              "       [1.],\n",
              "       [1.],\n",
              "       [1.],\n",
              "       [1.],\n",
              "       [1.],\n",
              "       [1.],\n",
              "       [1.],\n",
              "       [1.],\n",
              "       [1.],\n",
              "       [1.],\n",
              "       [1.],\n",
              "       [1.],\n",
              "       [1.],\n",
              "       [1.],\n",
              "       [1.],\n",
              "       [1.],\n",
              "       [1.],\n",
              "       [1.],\n",
              "       [1.],\n",
              "       [1.],\n",
              "       [1.],\n",
              "       [1.],\n",
              "       [1.],\n",
              "       [1.],\n",
              "       [1.],\n",
              "       [1.],\n",
              "       [1.],\n",
              "       [1.],\n",
              "       [1.],\n",
              "       [1.],\n",
              "       [1.],\n",
              "       [1.],\n",
              "       [1.],\n",
              "       [1.],\n",
              "       [1.],\n",
              "       [1.],\n",
              "       [1.],\n",
              "       [1.],\n",
              "       [1.],\n",
              "       [1.],\n",
              "       [1.],\n",
              "       [1.],\n",
              "       [1.],\n",
              "       [1.],\n",
              "       [1.],\n",
              "       [1.],\n",
              "       [1.],\n",
              "       [1.],\n",
              "       [1.],\n",
              "       [1.],\n",
              "       [1.],\n",
              "       [1.],\n",
              "       [1.],\n",
              "       [1.],\n",
              "       [1.],\n",
              "       [1.],\n",
              "       [1.],\n",
              "       [1.],\n",
              "       [1.],\n",
              "       [1.],\n",
              "       [1.],\n",
              "       [1.],\n",
              "       [1.],\n",
              "       [1.],\n",
              "       [1.],\n",
              "       [1.],\n",
              "       [1.],\n",
              "       [1.],\n",
              "       [1.],\n",
              "       [1.],\n",
              "       [1.],\n",
              "       [1.],\n",
              "       [1.],\n",
              "       [1.],\n",
              "       [1.],\n",
              "       [1.],\n",
              "       [1.],\n",
              "       [1.],\n",
              "       [1.],\n",
              "       [1.],\n",
              "       [1.],\n",
              "       [1.],\n",
              "       [1.],\n",
              "       [1.],\n",
              "       [1.],\n",
              "       [1.],\n",
              "       [1.],\n",
              "       [1.],\n",
              "       [1.],\n",
              "       [1.],\n",
              "       [1.],\n",
              "       [1.],\n",
              "       [1.],\n",
              "       [1.],\n",
              "       [1.],\n",
              "       [1.],\n",
              "       [1.],\n",
              "       [1.],\n",
              "       [1.],\n",
              "       [1.],\n",
              "       [1.],\n",
              "       [1.],\n",
              "       [1.],\n",
              "       [1.],\n",
              "       [1.],\n",
              "       [1.],\n",
              "       [1.],\n",
              "       [1.],\n",
              "       [1.],\n",
              "       [1.],\n",
              "       [1.],\n",
              "       [1.],\n",
              "       [1.],\n",
              "       [1.],\n",
              "       [1.],\n",
              "       [1.],\n",
              "       [1.],\n",
              "       [1.],\n",
              "       [1.],\n",
              "       [1.],\n",
              "       [1.],\n",
              "       [1.],\n",
              "       [1.],\n",
              "       [1.],\n",
              "       [1.],\n",
              "       [1.],\n",
              "       [1.],\n",
              "       [1.],\n",
              "       [1.],\n",
              "       [1.],\n",
              "       [1.],\n",
              "       [1.],\n",
              "       [1.],\n",
              "       [1.],\n",
              "       [1.],\n",
              "       [1.],\n",
              "       [1.],\n",
              "       [1.],\n",
              "       [1.],\n",
              "       [1.],\n",
              "       [1.],\n",
              "       [1.],\n",
              "       [1.],\n",
              "       [1.],\n",
              "       [1.],\n",
              "       [1.],\n",
              "       [1.],\n",
              "       [1.],\n",
              "       [1.],\n",
              "       [1.],\n",
              "       [1.],\n",
              "       [1.],\n",
              "       [1.],\n",
              "       [1.],\n",
              "       [1.],\n",
              "       [1.],\n",
              "       [1.],\n",
              "       [1.],\n",
              "       [1.],\n",
              "       [1.],\n",
              "       [1.],\n",
              "       [1.],\n",
              "       [1.],\n",
              "       [1.],\n",
              "       [1.],\n",
              "       [1.],\n",
              "       [1.],\n",
              "       [1.],\n",
              "       [1.],\n",
              "       [1.],\n",
              "       [1.],\n",
              "       [1.],\n",
              "       [1.],\n",
              "       [1.],\n",
              "       [1.],\n",
              "       [1.],\n",
              "       [1.],\n",
              "       [1.],\n",
              "       [1.],\n",
              "       [1.],\n",
              "       [1.],\n",
              "       [1.],\n",
              "       [1.],\n",
              "       [1.],\n",
              "       [1.],\n",
              "       [1.],\n",
              "       [1.]], dtype=float32)"
            ]
          },
          "metadata": {},
          "execution_count": 73
        }
      ]
    },
    {
      "cell_type": "code",
      "source": [
        ""
      ],
      "metadata": {
        "id": "fn9q-QneRodr"
      },
      "execution_count": null,
      "outputs": []
    }
  ]
}